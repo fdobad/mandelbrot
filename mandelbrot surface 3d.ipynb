{
 "cells": [
  {
   "cell_type": "markdown",
   "metadata": {},
   "source": [
    "# Mandelbrot surface 3d"
   ]
  },
  {
   "cell_type": "code",
   "execution_count": 1,
   "metadata": {},
   "outputs": [
    {
     "data": {
      "application/javascript": [
       "IPython.notebook.set_autosave_interval(0)"
      ]
     },
     "metadata": {},
     "output_type": "display_data"
    },
    {
     "name": "stdout",
     "output_type": "stream",
     "text": [
      "Autosave disabled\n"
     ]
    }
   ],
   "source": [
    "'''\n",
    "======================\n",
    "3D surface (color map)\n",
    "======================\n",
    "\n",
    "Demonstrates plotting a 3D surface colored with the coolwarm color map.\n",
    "The surface is made opaque by using antialiased=False.\n",
    "\n",
    "Also demonstrates using the LinearLocator and custom formatting for the\n",
    "z axis tick labels.\n",
    "'''\n",
    "%autosave 0\n",
    "%matplotlib widget\n",
    "import ipywidgets as widgets\n",
    "from ipywidgets import VBox, Box\n",
    "from mpl_toolkits.mplot3d import Axes3D\n",
    "import matplotlib.pyplot as plt\n",
    "from matplotlib import cm\n",
    "from matplotlib.ticker import LinearLocator, FormatStrFormatter\n",
    "import numpy as np"
   ]
  },
  {
   "cell_type": "code",
   "execution_count": null,
   "metadata": {},
   "outputs": [],
   "source": [
    "def mandelbrot(x, y, mI):\n",
    "    c=0\n",
    "    z=np.complex(real=x,imag=y)\n",
    "    c=z\n",
    "    for i in range(mI):\n",
    "        if z.real**2+z.imag**2 >= 4:\n",
    "            break\n",
    "        else:\n",
    "            z = z*z + c\n",
    "    return i, z"
   ]
  },
  {
   "cell_type": "code",
   "execution_count": 4,
   "metadata": {},
   "outputs": [],
   "source": [
    "mI=25\n",
    "n=30"
   ]
  },
  {
   "cell_type": "code",
   "execution_count": null,
   "metadata": {},
   "outputs": [],
   "source": [
    "itNum = np.zeros((n,n))\n",
    "Z     = np.zeros((n,n),dtype=np.complex_)\n",
    "# Make data.\n",
    "x = np.linspace(-2.25, +0.75, n) # 3\n",
    "y = np.linspace(-1.5, +1.5, n)\n",
    "X,Y = np.meshgrid(x, y, sparse=True)\n",
    "for i,vx in enumerate(x):\n",
    "    for j,vy in enumerate(y):\n",
    "        itNum[i][j], Z[i][j] = mandelbrot( vx, vy, mI)"
   ]
  },
  {
   "cell_type": "markdown",
   "metadata": {},
   "source": [
    "# replicate"
   ]
  },
  {
   "cell_type": "code",
   "execution_count": null,
   "metadata": {},
   "outputs": [],
   "source": [
    "def make_box_layout():\n",
    "     return widgets.Layout(\n",
    "        border='solid 1px black',\n",
    "        margin='0px 10px 10px 0px',\n",
    "        padding='5px 5px 5px 5px'\n",
    "     )\n",
    "\n",
    "class mandel3d(widgets.VBox):\n",
    "\n",
    "    def resolution_update(self, change):\n",
    "        print('resolution_update','change',change)\n",
    "        \n",
    "        plt.ioff()\n",
    "        with self.output:\n",
    "            #self.fig.clf()\n",
    "            self.ax.cla()\n",
    "            #self.fig = plt.figure()\n",
    "            #self.ax = self.fig.gca(projection='3d')\n",
    "            \n",
    "        self.n=int(change.new)\n",
    "        self.itNum = np.zeros((self.n,self.n))\n",
    "        self.Z     = np.zeros((self.n,self.n),dtype=np.complex_)\n",
    "\n",
    "        # Make data.\n",
    "        self.x = np.linspace(-2.25, +0.75, self.n)\n",
    "        self.y = np.linspace(-1.25, +1.25, self.n)\n",
    "        self.X, self.Y = np.meshgrid(self.x, self.y, sparse=True)\n",
    "        #X, Y = np.meshgrid(self.x, self.y, sparse=True)\n",
    "        \n",
    "        #Z = np.nan_to_num(X*Y**2 + 8*X**2*Y**2 + 8*X**3*Y**2 + 3*X**4*Y**2 + 2*Y**4 + 4*X*Y**4 + 3*X**2*Y**4 + Y**6, posinf=255)\n",
    "        for i,vx in enumerate(x):\n",
    "            for j,vy in enumerate(y):\n",
    "                self.itNum[i][j], self.Z[i][j] = mandelbrot( vx, vy, self.mI)\n",
    "        #itNum[i][j], self.Z[i][j] = mandelbrot( vx, vy, self.mI)\n",
    "    \n",
    "        # Plot the surface.\n",
    "        self.surf = self.ax.plot_surface(self.X, self.Y, self.itNum, cmap=cm.coolwarm, linewidth=1, antialiased=True)\n",
    "        #self.surf = self.ax.plot_surface(X, Y, itNum, cmap=cm.coolwarm, linewidth=1, antialiased=True)\n",
    "    \n",
    "        # Customize the z axis.\n",
    "        #ax.set_zlim(-1.01, 1.01)\n",
    "        #self.ax.zaxis.set_major_locator(LinearLocator(10))\n",
    "        #self.ax.zaxis.set_major_formatter(FormatStrFormatter('%.02f'))\n",
    "    \n",
    "        # Add a color bar which maps values to colors.\n",
    "        #self.fig.colorbar(self.surf, shrink=0.5, aspect=5)\n",
    "        \n",
    "        plt.ion()\n",
    "        self.fig.canvas.draw()\n",
    "        plt.show()\n",
    "        \n",
    "\n",
    "    def __init__(self):\n",
    "        super().__init__()\n",
    "\n",
    "        self.output = widgets.Output()      \n",
    "        with self.output:\n",
    "            self.fig = plt.figure()\n",
    "            self.ax = self.fig.gca(projection='3d')\n",
    "\n",
    "        self.mI=15\n",
    "        self.n=60\n",
    "        self.itNum = np.zeros((n,n))\n",
    "        self.Z     = np.zeros((n,n),dtype=np.complex_)\n",
    "        \n",
    "        self.x = np.linspace(-2.25, +0.75, self.n)\n",
    "        self.y = np.linspace(-1.25, +1.25, self.n)\n",
    "        self.X,self.Y = np.meshgrid(self.x, self.y, sparse=True)\n",
    "        \n",
    "        for i,vx in enumerate(x):\n",
    "            for j,vy in enumerate(y):\n",
    "                self.itNum[i][j], self.Z[i][j] = mandelbrot( vx, vy, self.mI)\n",
    "        \n",
    "        # Plot the surface.\n",
    "        self.surf = self.ax.plot_surface(self.X, self.Y, self.itNum, cmap=cm.coolwarm, linewidth=1, antialiased=True)\n",
    "          \n",
    "        # Customize the z axis.\n",
    "        #ax.set_zlim(-1.01, 1.01)\n",
    "        self.ax.zaxis.set_major_locator(LinearLocator(10))\n",
    "        self.ax.zaxis.set_major_formatter(FormatStrFormatter('%.02f'))\n",
    "    \n",
    "        # Add a color bar which maps values to colors.\n",
    "        self.fig.colorbar(self.surf, shrink=0.5, aspect=5)\n",
    "#, location='bottom' , cax=self.ax\n",
    "        #plt.show()\n",
    "        #self.fig.canvas.draw()\n",
    "        \n",
    "        self.resolution_slider = widgets.IntSlider( value=self.n, min=10, max=1000, step=10, description='Pixel resolution²', continuous_update=False )\n",
    "        self.resolution_slider.observe(self.resolution_update,'value')\n",
    "\n",
    "        outbox = widgets.Box([self.output])\n",
    "        outbox.layout = make_box_layout()\n",
    "    \n",
    "        self.resolution_slider.layout = make_box_layout()\n",
    "    \n",
    "        self.children = [ self.resolution_slider, outbox ]\n"
   ]
  },
  {
   "cell_type": "code",
   "execution_count": null,
   "metadata": {
    "jupyter": {
     "source_hidden": true
    }
   },
   "outputs": [],
   "source": [
    "m3=mandel3d()\n",
    "m3"
   ]
  },
  {
   "cell_type": "code",
   "execution_count": null,
   "metadata": {
    "jupyter": {
     "source_hidden": true
    }
   },
   "outputs": [],
   "source": [
    "m3.fig.surf()\n",
    "#m3.fig.colorbar()\n",
    "'''\n",
    "m3.ax.plot_surface(rcount=60,ccount=60 , rcount=self.n, ccount=self.n lueError: shape mismatch: objects cannot be broadcast to a single shape\n",
    "'''"
   ]
  },
  {
   "cell_type": "markdown",
   "metadata": {},
   "source": [
    "# repeat"
   ]
  },
  {
   "cell_type": "markdown",
   "metadata": {},
   "source": [
    "## POLAR mandelbrot\n",
    "[from](https://matplotlib.org/3.1.0/gallery/mplot3d/surface3d_radial.html)"
   ]
  },
  {
   "cell_type": "code",
   "execution_count": 14,
   "metadata": {},
   "outputs": [],
   "source": [
    "def mandelbrotRad(rad, angl, mI):\n",
    "    c=0\n",
    "    z=np.complex(real = rad*np.cos(angl) ,\n",
    "                 imag = rad*np.sin(angl))\n",
    "    c=z\n",
    "    for i in range(mI):\n",
    "        if z.real**2+z.imag**2 >= 4:\n",
    "            break\n",
    "        else:\n",
    "            z = z*z + c\n",
    "    return i, z"
   ]
  },
  {
   "cell_type": "code",
   "execution_count": 15,
   "metadata": {},
   "outputs": [
    {
     "data": {
      "application/vnd.jupyter.widget-view+json": {
       "model_id": "4f94d2f53ec4416da62e80f7c2fb4faf",
       "version_major": 2,
       "version_minor": 0
      },
      "text/plain": [
       "Canvas(toolbar=Toolbar(toolitems=[('Home', 'Reset original view', 'home', 'home'), ('Back', 'Back to previous …"
      ]
     },
     "metadata": {},
     "output_type": "display_data"
    }
   ],
   "source": [
    "n_radii = 8*3\n",
    "n_angles = 36*3\n",
    "\n",
    "# Make radii and angles spaces (radius r=0 omitted to eliminate duplication).\n",
    "radii = np.linspace(0.125, 2.25, n_radii)\n",
    "angles = np.linspace(0.015, 2*np.pi+0.015, n_angles) #, endpoint=False\n",
    "\n",
    "R, P = np.meshgrid(radii, angles)\n",
    "#Z = ((R**2 - 1)**2)\n",
    "# Repeat all angles for each radius.\n",
    "#angles = np.repeat(angles[..., np.newaxis], n_radii, axis=1)\n",
    "#R[0],P[:,0],Z.shape\n",
    "\n",
    "size=(n_angles,n_radii)\n",
    "itNum = np.zeros( size )\n",
    "Z = np.zeros( size, dtype=np.complex_ )\n",
    "\n",
    "for i,vx in enumerate(radii):\n",
    "    for j,vy in enumerate(angles):\n",
    "        itNum[j][i], Z[j][i] = mandelbrotRad( vx, vy, mI)\n",
    "#itNum.shape\n",
    "\n",
    "# Convert polar (radii, angles) coords to cartesian (x, y) coords.\n",
    "# (0, 0) is manually added at this stage,  so there will be no duplicate\n",
    "# points in the (x, y) plane.\n",
    "#x = np.append(0, (radii*np.cos(angles)).flatten())\n",
    "#y = np.append(0, (radii*np.sin(angles)).flatten())\n",
    "#x[0:10],y[0:10],x[::28],y[::28],min(x),max(y),len(x),len(y),n_radii*n_angles\n",
    "X, Y = R*np.cos(P), R*np.sin(P)\n",
    "\n",
    "fig = plt.figure()\n",
    "ax = fig.gca(projection='3d')\n",
    "\n",
    "surf=ax.plot_surface(X, Y, itNum, cmap=cm.coolwarm, linewidth=0.2, antialiased=True)\n",
    "\n",
    "ax.set_xlim(-2.25, +0.75)\n",
    "ax.set_ylim(-1.5, +1.5)\n",
    "\n",
    "# Customize the z axis.\n",
    "#ax.set_zlim(-1.01, 1.01)\n",
    "ax.zaxis.set_major_locator(LinearLocator(10))\n",
    "ax.zaxis.set_major_formatter(FormatStrFormatter('%.02f'))\n",
    "\n",
    "# Add a color bar which maps values to colors.\n",
    "fig.colorbar( surf, shrink=0.5, aspect=5)\n",
    "\n",
    "plt.show()"
   ]
  },
  {
   "cell_type": "markdown",
   "metadata": {
    "jupyter": {
     "source_hidden": true
    }
   },
   "source": [
    "Hold mouse 1 to rotate  \n",
    "Hold mouse 2 to zoom"
   ]
  },
  {
   "cell_type": "markdown",
   "metadata": {
    "jupyter": {
     "source_hidden": true
    }
   },
   "source": [
    "## plot surface"
   ]
  },
  {
   "cell_type": "code",
   "execution_count": null,
   "metadata": {},
   "outputs": [],
   "source": [
    "fig = plt.figure()\n",
    "ax = fig.gca(projection='3d')\n",
    "# Plot the surface.\n",
    "\n",
    "#ax.set_zscale('log')\n",
    "\n",
    "surf = ax.plot_surface(X, Y, itNum, cmap=cm.coolwarm,rcount=n, ccount=n,\n",
    "                       linewidth=0, antialiased=True)#False\n",
    "# more options to plot_surface\n",
    "#rstride=10,cstride=10\n",
    "#rcount=10,ccount=10,rcount=n,ccount=n max~50 or slow!!\n",
    "\n",
    "# Customize the z axis.\n",
    "#ax.set_zlim(-1.01, 1.01)\n",
    "ax.zaxis.set_major_locator(LinearLocator(10))\n",
    "ax.zaxis.set_major_formatter(FormatStrFormatter('%.02f'))\n",
    "\n",
    "# Add a color bar which maps values to colors.\n",
    "fig.colorbar( surf, shrink=0.5, aspect=5)\n",
    "\n",
    "plt.show()"
   ]
  },
  {
   "cell_type": "markdown",
   "metadata": {
    "jupyter": {
     "source_hidden": true
    }
   },
   "source": [
    "## contourf"
   ]
  },
  {
   "cell_type": "code",
   "execution_count": null,
   "metadata": {
    "jupyter": {
     "source_hidden": true
    },
    "lines_to_next_cell": 1
   },
   "outputs": [],
   "source": [
    "fig = plt.figure()\n",
    "ax = fig.gca(projection='3d')\n",
    "# Plot the surface.\n",
    "surf = ax.contourf(x, y, itNum, cmap=cm.coolwarm,\n",
    "                       antialiased=True)#False\n",
    "\n",
    "# Add a color bar which maps values to colors.\n",
    "fig.colorbar(surf, shrink=0.5, aspect=5)\n",
    "\n",
    "plt.show()"
   ]
  },
  {
   "cell_type": "code",
   "execution_count": null,
   "metadata": {
    "jupyter": {
     "source_hidden": true
    }
   },
   "outputs": [],
   "source": [
    "#type(ax),dir(ax)\n",
    "plt.isinteractive() #switch: ion() ioff()\n",
    "ax.can_zoom()"
   ]
  },
  {
   "cell_type": "markdown",
   "metadata": {
    "jupyter": {
     "source_hidden": true
    }
   },
   "source": [
    "# HeatMap"
   ]
  },
  {
   "cell_type": "code",
   "execution_count": null,
   "metadata": {
    "jupyter": {
     "source_hidden": true
    }
   },
   "outputs": [],
   "source": [
    "from mpl_interactions import  heatmap_slicer #interactive_plot, interactive_plot_factory,\n",
    "fig,axes = heatmap_slicer( x,y,Z,slices='both',heatmap_names=('mandelbrot'),figsize=(21, 6),labels=('Some wild X variable'),interaction_type='move')"
   ]
  },
  {
   "cell_type": "markdown",
   "metadata": {
    "jupyter": {
     "source_hidden": true
    }
   },
   "source": [
    "# Original 3d trisurface"
   ]
  },
  {
   "cell_type": "code",
   "execution_count": null,
   "metadata": {
    "jupyter": {
     "source_hidden": true
    }
   },
   "outputs": [],
   "source": [
    "'''\n",
    "======================\n",
    "Triangular 3D surfaces\n",
    "======================\n",
    "\n",
    "Plot a 3D surface with a triangular mesh.\n",
    "'''\n",
    "\n",
    "from mpl_toolkits.mplot3d import Axes3D\n",
    "import matplotlib.pyplot as plt\n",
    "import numpy as np\n",
    "\n",
    "\n",
    "n_radii = 8\n",
    "n_angles = 36\n",
    "\n",
    "# Make radii and angles spaces (radius r=0 omitted to eliminate duplication).\n",
    "radii = np.linspace(0.125, 1.0, n_radii)\n",
    "angles = np.linspace(0, 2*np.pi, n_angles, endpoint=False)\n",
    "\n",
    "# Repeat all angles for each radius.\n",
    "angles = np.repeat(angles[..., np.newaxis], n_radii, axis=1)\n",
    "\n",
    "# Convert polar (radii, angles) coords to cartesian (x, y) coords.\n",
    "# (0, 0) is manually added at this stage,  so there will be no duplicate\n",
    "# points in the (x, y) plane.\n",
    "x = np.append(0, (radii*np.cos(angles)).flatten())\n",
    "y = np.append(0, (radii*np.sin(angles)).flatten())\n",
    "\n",
    "# Compute z to make the pringle surface.\n",
    "z = np.sin(-x*y)\n",
    "\n",
    "fig = plt.figure()\n",
    "ax = fig.gca(projection='3d')\n",
    "\n",
    "ax.plot_trisurf(x, y, z, linewidth=0.2, antialiased=True)\n",
    "\n",
    "plt.show()"
   ]
  },
  {
   "cell_type": "code",
   "execution_count": null,
   "metadata": {
    "jupyter": {
     "source_hidden": true
    }
   },
   "outputs": [],
   "source": [
    "x[0:10],x[::28],y[::28],min(x),max(y),len(x),len(y),n_radii*n_angles"
   ]
  },
  {
   "cell_type": "markdown",
   "metadata": {},
   "source": [
    "# Original 3d surface"
   ]
  },
  {
   "cell_type": "raw",
   "metadata": {
    "jupyter": {
     "source_hidden": true
    }
   },
   "source": [
    "======================\n",
    "3D surface (color map)\n",
    "======================\n",
    "\n",
    "Demonstrates plotting a 3D surface colored with the coolwarm color map.\n",
    "The surface is made opaque by using antialiased=False.\n",
    "\n",
    "Also demonstrates using the LinearLocator and custom formatting for the\n",
    "z axis tick labels."
   ]
  },
  {
   "cell_type": "code",
   "execution_count": null,
   "metadata": {
    "jupyter": {
     "source_hidden": true
    },
    "lines_to_next_cell": 0
   },
   "outputs": [],
   "source": [
    "fig = plt.figure()\n",
    "ax = fig.gca(projection='3d')\n",
    "\n",
    "# Make data.\n",
    "X = np.arange(-5, 5, 0.25)\n",
    "Y = np.arange(-5, 5, 0.25)\n",
    "X, Y = np.meshgrid(X, Y)\n",
    "R = np.sqrt(X**2 + Y**2)\n",
    "Z = np.sin(R)\n",
    "\n",
    "# Plot the surface.\n",
    "surf = ax.plot_surface(X, Y, Z, cmap=cm.coolwarm,\n",
    "                       linewidth=0, antialiased=False)\n",
    "\n",
    "# Customize the z axis.\n",
    "ax.set_zlim(-1.01, 1.01)\n",
    "ax.zaxis.set_major_locator(LinearLocator(10))\n",
    "ax.zaxis.set_major_formatter(FormatStrFormatter('%.02f'))\n",
    "\n",
    "# Add a color bar which maps values to colors.\n",
    "fig.colorbar(surf, shrink=0.5, aspect=5)\n",
    "\n",
    "plt.show()"
   ]
  },
  {
   "cell_type": "markdown",
   "metadata": {
    "lines_to_next_cell": 2
   },
   "source": [
    "# add collections"
   ]
  },
  {
   "cell_type": "code",
   "execution_count": 18,
   "metadata": {},
   "outputs": [
    {
     "ename": "ModuleNotFoundError",
     "evalue": "No module named 'matplotdasdlib'",
     "output_type": "error",
     "traceback": [
      "\u001b[0;31m---------------------------------------------------------------------------\u001b[0m",
      "\u001b[0;31mModuleNotFoundError\u001b[0m                       Traceback (most recent call last)",
      "\u001b[0;32m<ipython-input-18-75a1d9467997>\u001b[0m in \u001b[0;36m<module>\u001b[0;34m\u001b[0m\n\u001b[1;32m      1\u001b[0m \u001b[0;32mimport\u001b[0m \u001b[0mmatplotlib\u001b[0m\u001b[0;34m.\u001b[0m\u001b[0mpyplot\u001b[0m \u001b[0;32mas\u001b[0m \u001b[0mplt\u001b[0m\u001b[0;34m\u001b[0m\u001b[0;34m\u001b[0m\u001b[0m\n\u001b[0;32m----> 2\u001b[0;31m \u001b[0;32mfrom\u001b[0m \u001b[0mmatplotdasdlib\u001b[0m \u001b[0;32mimport\u001b[0m \u001b[0mcollections\u001b[0m\u001b[0;34m,\u001b[0m \u001b[0mcolors\u001b[0m\u001b[0;34m,\u001b[0m \u001b[0mtransforms\u001b[0m\u001b[0;34m\u001b[0m\u001b[0;34m\u001b[0m\u001b[0m\n\u001b[0m\u001b[1;32m      3\u001b[0m \u001b[0;32mimport\u001b[0m \u001b[0mnumpy\u001b[0m \u001b[0;32mas\u001b[0m \u001b[0mnp\u001b[0m\u001b[0;34m\u001b[0m\u001b[0;34m\u001b[0m\u001b[0m\n\u001b[1;32m      4\u001b[0m \u001b[0;34m\u001b[0m\u001b[0m\n\u001b[1;32m      5\u001b[0m \u001b[0mnverts\u001b[0m \u001b[0;34m=\u001b[0m \u001b[0;36m50\u001b[0m\u001b[0;34m\u001b[0m\u001b[0;34m\u001b[0m\u001b[0m\n",
      "\u001b[0;31mModuleNotFoundError\u001b[0m: No module named 'matplotdasdlib'"
     ]
    }
   ],
   "source": [
    "import matplotlib.pyplot as plt\n",
    "from matplotdasdlib import collections, colors, transforms\n",
    "import numpy as np\n",
    "\n",
    "nverts = 50\n",
    "npts = 100\n",
    "\n",
    "# Make some spirals\n",
    "r = np.arange(nverts)\n",
    "theta = np.linspace(0, 2*np.pi, nverts)\n",
    "xx = r * np.sin(theta)\n",
    "yy = r * np.cos(theta)\n",
    "spiral = np.column_stack([xx, yy])\n",
    "\n",
    "# Fixing random state for reproducibility\n",
    "rs = np.random.RandomState(19680801)\n",
    "\n",
    "# Make some offsets\n",
    "xyo = rs.randn(npts, 2)\n",
    "\n",
    "# Make a list of colors cycling through the default series.\n",
    "colors = [colors.to_rgba(c)\n",
    "          for c in plt.rcParams['axes.prop_cycle'].by_key()['color']]\n",
    "\n",
    "fig, ((ax1, ax2), (ax3, ax4)) = plt.subplots(2, 2)\n",
    "fig.subplots_adjust(top=0.92, left=0.07, right=0.97,\n",
    "                    hspace=0.3, wspace=0.3)\n",
    "\n",
    "\n",
    "col = collections.LineCollection([spiral], offsets=xyo,\n",
    "                                 transOffset=ax1.transData)\n",
    "trans = fig.dpi_scale_trans + transforms.Affine2D().scale(1.0/72.0)\n",
    "col.set_transform(trans)  # the points to pixels transform\n",
    "# Note: the first argument to the collection initializer\n",
    "# must be a list of sequences of (x, y) tuples; we have only\n",
    "# one sequence, but we still have to put it in a list.\n",
    "ax1.add_collection(col, autolim=True)\n",
    "# autolim=True enables autoscaling.  For collections with\n",
    "# offsets like this, it is neither efficient nor accurate,\n",
    "# but it is good enough to generate a plot that you can use\n",
    "# as a starting point.  If you know beforehand the range of\n",
    "# x and y that you want to show, it is better to set them\n",
    "# explicitly, leave out the autolim kwarg (or set it to False),\n",
    "# and omit the 'ax1.autoscale_view()' call below.\n",
    "\n",
    "# Make a transform for the line segments such that their size is\n",
    "# given in points:\n",
    "col.set_color(colors)\n",
    "\n",
    "ax1.autoscale_view()  # See comment above, after ax1.add_collection.\n",
    "ax1.set_title('LineCollection using offsets')\n",
    "\n",
    "\n",
    "# The same data as above, but fill the curves.\n",
    "col = collections.PolyCollection([spiral], offsets=xyo,\n",
    "                                 transOffset=ax2.transData)\n",
    "trans = transforms.Affine2D().scale(fig.dpi/72.0)\n",
    "col.set_transform(trans)  # the points to pixels transform\n",
    "ax2.add_collection(col, autolim=True)\n",
    "col.set_color(colors)\n",
    "\n",
    "\n",
    "ax2.autoscale_view()\n",
    "ax2.set_title('PolyCollection using offsets')\n",
    "\n",
    "# 7-sided regular polygons\n",
    "\n",
    "col = collections.RegularPolyCollection(\n",
    "    7, sizes=np.abs(xx) * 10.0, offsets=xyo, transOffset=ax3.transData)\n",
    "trans = transforms.Affine2D().scale(fig.dpi / 72.0)\n",
    "col.set_transform(trans)  # the points to pixels transform\n",
    "ax3.add_collection(col, autolim=True)\n",
    "col.set_color(colors)\n",
    "ax3.autoscale_view()\n",
    "ax3.set_title('RegularPolyCollection using offsets')\n",
    "\n",
    "\n",
    "# Simulate a series of ocean current profiles, successively\n",
    "# offset by 0.1 m/s so that they form what is sometimes called\n",
    "# a \"waterfall\" plot or a \"stagger\" plot.\n",
    "\n",
    "nverts = 60\n",
    "ncurves = 20\n",
    "offs = (0.1, 0.0)\n",
    "\n",
    "yy = np.linspace(0, 2*np.pi, nverts)\n",
    "ym = np.max(yy)\n",
    "xx = (0.2 + (ym - yy) / ym) ** 2 * np.cos(yy - 0.4) * 0.5\n",
    "segs = []\n",
    "for i in range(ncurves):\n",
    "    xxx = xx + 0.02*rs.randn(nverts)\n",
    "    curve = np.column_stack([xxx, yy * 100])\n",
    "    segs.append(curve)\n",
    "\n",
    "col = collections.LineCollection(segs, offsets=offs)\n",
    "ax4.add_collection(col, autolim=True)\n",
    "col.set_color(colors)\n",
    "ax4.autoscale_view()\n",
    "ax4.set_title('Successive data offsets')\n",
    "ax4.set_xlabel('Zonal velocity component (m/s)')\n",
    "ax4.set_ylabel('Depth (m)')\n",
    "# Reverse the y-axis so depth increases downward\n",
    "ax4.set_ylim(ax4.get_ylim()[::-1])\n",
    "\n",
    "\n",
    "plt.show()"
   ]
  },
  {
   "cell_type": "code",
   "execution_count": null,
   "metadata": {},
   "outputs": [],
   "source": []
  }
 ],
 "metadata": {
  "jupytext": {
   "encoding": "# -*- coding: utf-8 -*-"
  },
  "kernelspec": {
   "display_name": "Python 3",
   "language": "python",
   "name": "python3"
  },
  "language_info": {
   "codemirror_mode": {
    "name": "ipython",
    "version": 3
   },
   "file_extension": ".py",
   "mimetype": "text/x-python",
   "name": "python",
   "nbconvert_exporter": "python",
   "pygments_lexer": "ipython3",
   "version": "3.7.3"
  },
  "widgets": {
   "application/vnd.jupyter.widget-state+json": {
    "state": {
     "051e5a83203945cd813017e628dc505e": {
      "model_module": "jupyter-matplotlib",
      "model_module_version": "^0.7.3",
      "model_name": "ToolbarModel",
      "state": {
       "layout": "IPY_MODEL_63caf7bc1dfc49d8bbeb74c6faaf0b9d",
       "toolitems": [
        [
         "Home",
         "Reset original view",
         "home",
         "home"
        ],
        [
         "Back",
         "Back to previous view",
         "arrow-left",
         "back"
        ],
        [
         "Forward",
         "Forward to next view",
         "arrow-right",
         "forward"
        ],
        [
         "Pan",
         "Left button pans, Right button zooms\nx/y fixes axis, CTRL fixes aspect",
         "arrows",
         "pan"
        ],
        [
         "Zoom",
         "Zoom to rectangle\nx/y fixes axis, CTRL fixes aspect",
         "square-o",
         "zoom"
        ],
        [
         "Download",
         "Download plot",
         "floppy-o",
         "save_figure"
        ]
       ]
      }
     },
     "1144d87bfd2742fc9265b5a98ef0a8e4": {
      "model_module": "jupyter-matplotlib",
      "model_module_version": "^0.7.3",
      "model_name": "ToolbarModel",
      "state": {
       "layout": "IPY_MODEL_4d6fc11814264292965bba6eea258763",
       "toolitems": [
        [
         "Home",
         "Reset original view",
         "home",
         "home"
        ],
        [
         "Back",
         "Back to previous view",
         "arrow-left",
         "back"
        ],
        [
         "Forward",
         "Forward to next view",
         "arrow-right",
         "forward"
        ],
        [
         "Pan",
         "Left button pans, Right button zooms\nx/y fixes axis, CTRL fixes aspect",
         "arrows",
         "pan"
        ],
        [
         "Zoom",
         "Zoom to rectangle\nx/y fixes axis, CTRL fixes aspect",
         "square-o",
         "zoom"
        ],
        [
         "Download",
         "Download plot",
         "floppy-o",
         "save_figure"
        ]
       ]
      }
     },
     "164826123d9e442d8d50e526f8fd32ea": {
      "model_module": "jupyter-matplotlib",
      "model_module_version": "^0.7.3",
      "model_name": "MPLCanvasModel",
      "state": {
       "_cursor": "default",
       "_figure_label": "Figure 8",
       "_height": 480,
       "_width": 640,
       "layout": "IPY_MODEL_a33b6fd334674ab791d7d98f331b3bfb",
       "toolbar": "IPY_MODEL_e83b64ffe64644a889f3a91b1abb43ae",
       "toolbar_position": "left"
      }
     },
     "179ce74ef3654e7e9c302e51c0d8c63e": {
      "model_module": "@jupyter-widgets/base",
      "model_module_version": "1.2.0",
      "model_name": "LayoutModel",
      "state": {}
     },
     "1ea72e59fb4548668f835bfa40c3a38d": {
      "model_module": "@jupyter-widgets/base",
      "model_module_version": "1.2.0",
      "model_name": "LayoutModel",
      "state": {}
     },
     "1f9a7c6aad7d48f1804560f3e4b3c71b": {
      "model_module": "@jupyter-widgets/base",
      "model_module_version": "1.2.0",
      "model_name": "LayoutModel",
      "state": {}
     },
     "22bf07873b454d91acae2e5e8c601436": {
      "model_module": "jupyter-matplotlib",
      "model_module_version": "^0.7.3",
      "model_name": "MPLCanvasModel",
      "state": {
       "_cursor": "default",
       "_figure_label": "Figure 4",
       "_height": 480,
       "_width": 640,
       "layout": "IPY_MODEL_39b5fb9276f14c98a4dde3caad5125ae",
       "toolbar": "IPY_MODEL_efea0838abb94dc6ae06b715efe3a40f",
       "toolbar_position": "left"
      }
     },
     "241c5eb7e6b242eab4663b44b332ff8a": {
      "model_module": "jupyter-matplotlib",
      "model_module_version": "^0.7.3",
      "model_name": "ToolbarModel",
      "state": {
       "layout": "IPY_MODEL_f2ac525abf284d96a74ef4d245c90fbd",
       "toolitems": [
        [
         "Home",
         "Reset original view",
         "home",
         "home"
        ],
        [
         "Back",
         "Back to previous view",
         "arrow-left",
         "back"
        ],
        [
         "Forward",
         "Forward to next view",
         "arrow-right",
         "forward"
        ],
        [
         "Pan",
         "Left button pans, Right button zooms\nx/y fixes axis, CTRL fixes aspect",
         "arrows",
         "pan"
        ],
        [
         "Zoom",
         "Zoom to rectangle\nx/y fixes axis, CTRL fixes aspect",
         "square-o",
         "zoom"
        ],
        [
         "Download",
         "Download plot",
         "floppy-o",
         "save_figure"
        ]
       ]
      }
     },
     "25683dd971cd425f9d6751d8114b11ca": {
      "model_module": "jupyter-matplotlib",
      "model_module_version": "^0.7.3",
      "model_name": "ToolbarModel",
      "state": {
       "layout": "IPY_MODEL_3234275e91f04498bfcd879ef366b47b",
       "toolitems": [
        [
         "Home",
         "Reset original view",
         "home",
         "home"
        ],
        [
         "Back",
         "Back to previous view",
         "arrow-left",
         "back"
        ],
        [
         "Forward",
         "Forward to next view",
         "arrow-right",
         "forward"
        ],
        [
         "Pan",
         "Left button pans, Right button zooms\nx/y fixes axis, CTRL fixes aspect",
         "arrows",
         "pan"
        ],
        [
         "Zoom",
         "Zoom to rectangle\nx/y fixes axis, CTRL fixes aspect",
         "square-o",
         "zoom"
        ],
        [
         "Download",
         "Download plot",
         "floppy-o",
         "save_figure"
        ]
       ]
      }
     },
     "27a2a4ac3bad41dbbe5e8c829725fa3d": {
      "model_module": "@jupyter-widgets/base",
      "model_module_version": "1.2.0",
      "model_name": "LayoutModel",
      "state": {}
     },
     "2ad38bad4ed440af80b90982d6c57fbb": {
      "model_module": "@jupyter-widgets/base",
      "model_module_version": "1.2.0",
      "model_name": "LayoutModel",
      "state": {}
     },
     "2bf0fe6e2f0543deb73758ee7ac72de8": {
      "model_module": "@jupyter-widgets/base",
      "model_module_version": "1.2.0",
      "model_name": "LayoutModel",
      "state": {}
     },
     "3234275e91f04498bfcd879ef366b47b": {
      "model_module": "@jupyter-widgets/base",
      "model_module_version": "1.2.0",
      "model_name": "LayoutModel",
      "state": {}
     },
     "36b0108e48d948eeb02e78a1ea6f85d2": {
      "model_module": "@jupyter-widgets/base",
      "model_module_version": "1.2.0",
      "model_name": "LayoutModel",
      "state": {}
     },
     "39b5fb9276f14c98a4dde3caad5125ae": {
      "model_module": "@jupyter-widgets/base",
      "model_module_version": "1.2.0",
      "model_name": "LayoutModel",
      "state": {}
     },
     "3efbfd4c4a604b8e91301141249e4aef": {
      "model_module": "jupyter-matplotlib",
      "model_module_version": "^0.7.3",
      "model_name": "MPLCanvasModel",
      "state": {
       "_cursor": "default",
       "_figure_label": "Figure 3",
       "_height": 480,
       "_width": 640,
       "layout": "IPY_MODEL_4343beaf78c546e09d8061a9d46df1d7",
       "toolbar": "IPY_MODEL_051e5a83203945cd813017e628dc505e",
       "toolbar_position": "left"
      }
     },
     "4343beaf78c546e09d8061a9d46df1d7": {
      "model_module": "@jupyter-widgets/base",
      "model_module_version": "1.2.0",
      "model_name": "LayoutModel",
      "state": {}
     },
     "47d0907910b840b6a27ceb641c494d46": {
      "model_module": "jupyter-matplotlib",
      "model_module_version": "^0.7.3",
      "model_name": "MPLCanvasModel",
      "state": {
       "_cursor": "default",
       "_figure_label": "Figure 2",
       "_height": 480,
       "_width": 640,
       "layout": "IPY_MODEL_179ce74ef3654e7e9c302e51c0d8c63e",
       "toolbar": "IPY_MODEL_496d2cb5ad4b417dac7a571bbb211020",
       "toolbar_position": "left"
      }
     },
     "496d2cb5ad4b417dac7a571bbb211020": {
      "model_module": "jupyter-matplotlib",
      "model_module_version": "^0.7.3",
      "model_name": "ToolbarModel",
      "state": {
       "layout": "IPY_MODEL_c3b1936f01184726925a67ec1cdd2931",
       "toolitems": [
        [
         "Home",
         "Reset original view",
         "home",
         "home"
        ],
        [
         "Back",
         "Back to previous view",
         "arrow-left",
         "back"
        ],
        [
         "Forward",
         "Forward to next view",
         "arrow-right",
         "forward"
        ],
        [
         "Pan",
         "Left button pans, Right button zooms\nx/y fixes axis, CTRL fixes aspect",
         "arrows",
         "pan"
        ],
        [
         "Zoom",
         "Zoom to rectangle\nx/y fixes axis, CTRL fixes aspect",
         "square-o",
         "zoom"
        ],
        [
         "Download",
         "Download plot",
         "floppy-o",
         "save_figure"
        ]
       ]
      }
     },
     "4d6fc11814264292965bba6eea258763": {
      "model_module": "@jupyter-widgets/base",
      "model_module_version": "1.2.0",
      "model_name": "LayoutModel",
      "state": {}
     },
     "4f94d2f53ec4416da62e80f7c2fb4faf": {
      "model_module": "jupyter-matplotlib",
      "model_module_version": "^0.7.3",
      "model_name": "MPLCanvasModel",
      "state": {
       "_cursor": "default",
       "_figure_label": "Figure 10",
       "_height": 480,
       "_width": 640,
       "layout": "IPY_MODEL_1ea72e59fb4548668f835bfa40c3a38d",
       "toolbar": "IPY_MODEL_b95d3f35d583410cbfbf6b510c2bc023",
       "toolbar_position": "left"
      }
     },
     "63caf7bc1dfc49d8bbeb74c6faaf0b9d": {
      "model_module": "@jupyter-widgets/base",
      "model_module_version": "1.2.0",
      "model_name": "LayoutModel",
      "state": {}
     },
     "66de53cc2ce54d05a196b5010f992635": {
      "model_module": "@jupyter-widgets/base",
      "model_module_version": "1.2.0",
      "model_name": "LayoutModel",
      "state": {}
     },
     "7a1e0085fcc74882824dcb331d6df290": {
      "model_module": "jupyter-matplotlib",
      "model_module_version": "^0.7.3",
      "model_name": "ToolbarModel",
      "state": {
       "layout": "IPY_MODEL_96efec5a9a244aacb5b41c17dc5543ce",
       "toolitems": [
        [
         "Home",
         "Reset original view",
         "home",
         "home"
        ],
        [
         "Back",
         "Back to previous view",
         "arrow-left",
         "back"
        ],
        [
         "Forward",
         "Forward to next view",
         "arrow-right",
         "forward"
        ],
        [
         "Pan",
         "Left button pans, Right button zooms\nx/y fixes axis, CTRL fixes aspect",
         "arrows",
         "pan"
        ],
        [
         "Zoom",
         "Zoom to rectangle\nx/y fixes axis, CTRL fixes aspect",
         "square-o",
         "zoom"
        ],
        [
         "Download",
         "Download plot",
         "floppy-o",
         "save_figure"
        ]
       ]
      }
     },
     "7b49e3b7bf6648cb8b3243de64bea7e1": {
      "model_module": "@jupyter-widgets/base",
      "model_module_version": "1.2.0",
      "model_name": "LayoutModel",
      "state": {}
     },
     "7b6bc9b1c5dc433fbe6ddd727ca60037": {
      "model_module": "@jupyter-widgets/base",
      "model_module_version": "1.2.0",
      "model_name": "LayoutModel",
      "state": {}
     },
     "7c3fcf6199964228862a507ce2f5ffd7": {
      "model_module": "jupyter-matplotlib",
      "model_module_version": "^0.7.3",
      "model_name": "MPLCanvasModel",
      "state": {
       "_cursor": "default",
       "_figure_label": "Figure 1",
       "_height": 480,
       "_width": 640,
       "layout": "IPY_MODEL_36b0108e48d948eeb02e78a1ea6f85d2",
       "toolbar": "IPY_MODEL_7a1e0085fcc74882824dcb331d6df290",
       "toolbar_position": "left"
      }
     },
     "8c387843b0264c1d922a3478baebc583": {
      "model_module": "@jupyter-widgets/base",
      "model_module_version": "1.2.0",
      "model_name": "LayoutModel",
      "state": {}
     },
     "8d084fa32f894378bf0fc1c6e063e35e": {
      "model_module": "jupyter-matplotlib",
      "model_module_version": "^0.7.3",
      "model_name": "MPLCanvasModel",
      "state": {
       "_cursor": "default",
       "_figure_label": "Figure 6",
       "_height": 480,
       "_width": 640,
       "layout": "IPY_MODEL_2bf0fe6e2f0543deb73758ee7ac72de8",
       "toolbar": "IPY_MODEL_1144d87bfd2742fc9265b5a98ef0a8e4",
       "toolbar_position": "left"
      }
     },
     "96efec5a9a244aacb5b41c17dc5543ce": {
      "model_module": "@jupyter-widgets/base",
      "model_module_version": "1.2.0",
      "model_name": "LayoutModel",
      "state": {}
     },
     "a33b6fd334674ab791d7d98f331b3bfb": {
      "model_module": "@jupyter-widgets/base",
      "model_module_version": "1.2.0",
      "model_name": "LayoutModel",
      "state": {}
     },
     "a67c9ec93a5f4a759523eb228b785a1f": {
      "model_module": "jupyter-matplotlib",
      "model_module_version": "^0.7.3",
      "model_name": "ToolbarModel",
      "state": {
       "layout": "IPY_MODEL_1f9a7c6aad7d48f1804560f3e4b3c71b",
       "toolitems": [
        [
         "Home",
         "Reset original view",
         "home",
         "home"
        ],
        [
         "Back",
         "Back to previous view",
         "arrow-left",
         "back"
        ],
        [
         "Forward",
         "Forward to next view",
         "arrow-right",
         "forward"
        ],
        [
         "Pan",
         "Left button pans, Right button zooms\nx/y fixes axis, CTRL fixes aspect",
         "arrows",
         "pan"
        ],
        [
         "Zoom",
         "Zoom to rectangle\nx/y fixes axis, CTRL fixes aspect",
         "square-o",
         "zoom"
        ],
        [
         "Download",
         "Download plot",
         "floppy-o",
         "save_figure"
        ]
       ]
      }
     },
     "b95d3f35d583410cbfbf6b510c2bc023": {
      "model_module": "jupyter-matplotlib",
      "model_module_version": "^0.7.3",
      "model_name": "ToolbarModel",
      "state": {
       "layout": "IPY_MODEL_7b49e3b7bf6648cb8b3243de64bea7e1",
       "toolitems": [
        [
         "Home",
         "Reset original view",
         "home",
         "home"
        ],
        [
         "Back",
         "Back to previous view",
         "arrow-left",
         "back"
        ],
        [
         "Forward",
         "Forward to next view",
         "arrow-right",
         "forward"
        ],
        [
         "Pan",
         "Left button pans, Right button zooms\nx/y fixes axis, CTRL fixes aspect",
         "arrows",
         "pan"
        ],
        [
         "Zoom",
         "Zoom to rectangle\nx/y fixes axis, CTRL fixes aspect",
         "square-o",
         "zoom"
        ],
        [
         "Download",
         "Download plot",
         "floppy-o",
         "save_figure"
        ]
       ]
      }
     },
     "bc8c14000415486e99c4ba22fdb62c7d": {
      "model_module": "jupyter-matplotlib",
      "model_module_version": "^0.7.3",
      "model_name": "MPLCanvasModel",
      "state": {
       "_cursor": "default",
       "_figure_label": "Figure 7",
       "_height": 480,
       "_width": 640,
       "layout": "IPY_MODEL_8c387843b0264c1d922a3478baebc583",
       "toolbar": "IPY_MODEL_241c5eb7e6b242eab4663b44b332ff8a",
       "toolbar_position": "left"
      }
     },
     "c3b1936f01184726925a67ec1cdd2931": {
      "model_module": "@jupyter-widgets/base",
      "model_module_version": "1.2.0",
      "model_name": "LayoutModel",
      "state": {}
     },
     "e83b64ffe64644a889f3a91b1abb43ae": {
      "model_module": "jupyter-matplotlib",
      "model_module_version": "^0.7.3",
      "model_name": "ToolbarModel",
      "state": {
       "layout": "IPY_MODEL_66de53cc2ce54d05a196b5010f992635",
       "toolitems": [
        [
         "Home",
         "Reset original view",
         "home",
         "home"
        ],
        [
         "Back",
         "Back to previous view",
         "arrow-left",
         "back"
        ],
        [
         "Forward",
         "Forward to next view",
         "arrow-right",
         "forward"
        ],
        [
         "Pan",
         "Left button pans, Right button zooms\nx/y fixes axis, CTRL fixes aspect",
         "arrows",
         "pan"
        ],
        [
         "Zoom",
         "Zoom to rectangle\nx/y fixes axis, CTRL fixes aspect",
         "square-o",
         "zoom"
        ],
        [
         "Download",
         "Download plot",
         "floppy-o",
         "save_figure"
        ]
       ]
      }
     },
     "efea0838abb94dc6ae06b715efe3a40f": {
      "model_module": "jupyter-matplotlib",
      "model_module_version": "^0.7.3",
      "model_name": "ToolbarModel",
      "state": {
       "layout": "IPY_MODEL_7b6bc9b1c5dc433fbe6ddd727ca60037",
       "toolitems": [
        [
         "Home",
         "Reset original view",
         "home",
         "home"
        ],
        [
         "Back",
         "Back to previous view",
         "arrow-left",
         "back"
        ],
        [
         "Forward",
         "Forward to next view",
         "arrow-right",
         "forward"
        ],
        [
         "Pan",
         "Left button pans, Right button zooms\nx/y fixes axis, CTRL fixes aspect",
         "arrows",
         "pan"
        ],
        [
         "Zoom",
         "Zoom to rectangle\nx/y fixes axis, CTRL fixes aspect",
         "square-o",
         "zoom"
        ],
        [
         "Download",
         "Download plot",
         "floppy-o",
         "save_figure"
        ]
       ]
      }
     },
     "f2ac525abf284d96a74ef4d245c90fbd": {
      "model_module": "@jupyter-widgets/base",
      "model_module_version": "1.2.0",
      "model_name": "LayoutModel",
      "state": {}
     },
     "f447b4342ead4a90aef6f06add1303c8": {
      "model_module": "jupyter-matplotlib",
      "model_module_version": "^0.7.3",
      "model_name": "MPLCanvasModel",
      "state": {
       "_cursor": "default",
       "_figure_label": "Figure 9",
       "_height": 480,
       "_width": 640,
       "layout": "IPY_MODEL_27a2a4ac3bad41dbbe5e8c829725fa3d",
       "toolbar": "IPY_MODEL_a67c9ec93a5f4a759523eb228b785a1f",
       "toolbar_position": "left"
      }
     },
     "f46f809596874dc3820d0f92ea459587": {
      "model_module": "jupyter-matplotlib",
      "model_module_version": "^0.7.3",
      "model_name": "MPLCanvasModel",
      "state": {
       "_cursor": "default",
       "_figure_label": "Figure 5",
       "_height": 480,
       "_width": 640,
       "layout": "IPY_MODEL_2ad38bad4ed440af80b90982d6c57fbb",
       "toolbar": "IPY_MODEL_25683dd971cd425f9d6751d8114b11ca",
       "toolbar_position": "left"
      }
     }
    },
    "version_major": 2,
    "version_minor": 0
   }
  }
 },
 "nbformat": 4,
 "nbformat_minor": 4
}
