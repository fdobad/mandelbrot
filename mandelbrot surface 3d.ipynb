{
 "cells": [
  {
   "cell_type": "markdown",
   "metadata": {},
   "source": [
    "# Mandelbrot surface 3d"
   ]
  },
  {
   "cell_type": "code",
   "execution_count": null,
   "metadata": {},
   "outputs": [],
   "source": [
    "'''\n",
    "======================\n",
    "3D surface (color map)\n",
    "======================\n",
    "\n",
    "Demonstrates plotting a 3D surface colored with the coolwarm color map.\n",
    "The surface is made opaque by using antialiased=False.\n",
    "\n",
    "Also demonstrates using the LinearLocator and custom formatting for the\n",
    "z axis tick labels.\n",
    "'''\n",
    "%autosave 0\n",
    "%matplotlib widget\n",
    "import ipywidgets as widgets\n",
    "from ipywidgets import VBox, Box\n",
    "from mpl_toolkits.mplot3d import Axes3D\n",
    "import matplotlib.pyplot as plt\n",
    "from matplotlib import cm\n",
    "from matplotlib.ticker import LinearLocator, FormatStrFormatter\n",
    "import numpy as np"
   ]
  },
  {
   "cell_type": "code",
   "execution_count": null,
   "metadata": {},
   "outputs": [],
   "source": [
    "def mandelbrot(x, y, mI):\n",
    "    c=0\n",
    "    z=np.complex(real=x,imag=y)\n",
    "    c=z\n",
    "    for i in range(mI):\n",
    "        if z.real**2+z.imag**2 >= 4:\n",
    "            break\n",
    "        else:\n",
    "            z = z*z + c\n",
    "    return i, z"
   ]
  },
  {
   "cell_type": "code",
   "execution_count": null,
   "metadata": {},
   "outputs": [],
   "source": [
    "mI=15\n",
    "n=30\n",
    "itNum = np.zeros((n,n))\n",
    "Z     = np.zeros((n,n),dtype=np.complex_)\n",
    "# Make data.\n",
    "x = np.linspace(-2.25, +0.75, n) # 3\n",
    "y = np.linspace(-1.5, +1.5, n)\n",
    "X,Y = np.meshgrid(x, y, sparse=True)\n",
    "for i,vx in enumerate(x):\n",
    "    for j,vy in enumerate(y):\n",
    "        itNum[i][j], Z[i][j] = mandelbrot( vx, vy, mI)"
   ]
  },
  {
   "cell_type": "markdown",
   "metadata": {},
   "source": [
    "# replicate"
   ]
  },
  {
   "cell_type": "code",
   "execution_count": null,
   "metadata": {},
   "outputs": [],
   "source": [
    "def make_box_layout():\n",
    "     return widgets.Layout(\n",
    "        border='solid 1px black',\n",
    "        margin='0px 10px 10px 0px',\n",
    "        padding='5px 5px 5px 5px'\n",
    "     )\n",
    "\n",
    "class mandel3d(widgets.VBox):\n",
    "\n",
    "    def resolution_update(self, change):\n",
    "        print('resolution_update','change',change)\n",
    "        \n",
    "        plt.ioff()\n",
    "        self.ax.cla()\n",
    "        \n",
    "        self.n=int(change.new)\n",
    "        self.itNum = np.zeros((self.n,self.n))\n",
    "        self.Z     = np.zeros((self.n,self.n),dtype=np.complex_)\n",
    "        print('es la ene',self.n)\n",
    "        # Make data.\n",
    "        self.x = np.linspace(-2.25, +0.75, self.n)\n",
    "        self.y = np.linspace(-1.25, +1.25, self.n)\n",
    "        self.X, self.Y = np.meshgrid(self.x, self.y, sparse=True)\n",
    "        #Z = np.nan_to_num(X*Y**2 + 8*X**2*Y**2 + 8*X**3*Y**2 + 3*X**4*Y**2 + 2*Y**4 + 4*X*Y**4 + 3*X**2*Y**4 + Y**6, posinf=255)\n",
    "    \n",
    "        for i,vx in enumerate(x):\n",
    "            for j,vy in enumerate(y):\n",
    "                self.itNum[i][j], self.Z[i][j] = mandelbrot( vx, vy, self.mI)\n",
    "    \n",
    "        # Plot the surface.\n",
    "        self.surf = self.ax.plot_surface(self.X, self.Y, self.itNum, cmap=cm.coolwarm, linewidth=1, antialiased=True)\n",
    "    \n",
    "        # Customize the z axis.\n",
    "        #ax.set_zlim(-1.01, 1.01)\n",
    "        self.ax.zaxis.set_major_locator(LinearLocator(10))\n",
    "        self.ax.zaxis.set_major_formatter(FormatStrFormatter('%.02f'))\n",
    "    \n",
    "        # Add a color bar which maps values to colors.\n",
    "        self.fig.colorbar(self.surf, shrink=0.5, aspect=5)\n",
    "    \n",
    "        self.fig.canvas.draw()\n",
    "        plt.show()\n",
    "        plt.ion()\n",
    "\n",
    "    def __init__(self):\n",
    "        super().__init__()\n",
    "\n",
    "        output = widgets.Output()      \n",
    "        with output:\n",
    "            self.fig = plt.figure()\n",
    "            self.ax = self.fig.gca(projection='3d')\n",
    "\n",
    "        self.mI=15\n",
    "        self.n=30\n",
    "        self.itNum = np.zeros((n,n))\n",
    "        self.Z     = np.zeros((n,n),dtype=np.complex_)\n",
    "        \n",
    "        self.x = np.linspace(-2.25, +0.75, self.n)\n",
    "        self.y = np.linspace(-1.25, +1.25, self.n)\n",
    "        self.X,self.Y = np.meshgrid(self.x, self.y, sparse=True)\n",
    "        \n",
    "        for i,vx in enumerate(x):\n",
    "            for j,vy in enumerate(y):\n",
    "                self.itNum[i][j], self.Z[i][j] = mandelbrot( vx, vy, self.mI)\n",
    "        \n",
    "        # Plot the surface.\n",
    "        self.surf = self.ax.plot_surface(self.X, self.Y, self.itNum, cmap=cm.coolwarm, linewidth=1, antialiased=True)\n",
    "    \n",
    "        # Customize the z axis.\n",
    "        #ax.set_zlim(-1.01, 1.01)\n",
    "        self.ax.zaxis.set_major_locator(LinearLocator(10))\n",
    "        self.ax.zaxis.set_major_formatter(FormatStrFormatter('%.02f'))\n",
    "    \n",
    "        # Add a color bar which maps values to colors.\n",
    "        self.fig.colorbar(self.surf, shrink=0.5, aspect=5)\n",
    "    \n",
    "        #plt.show()\n",
    "        #self.fig.canvas.draw()\n",
    "        \n",
    "        self.resolution_slider = widgets.IntSlider( value=self.n, min=10, max=1000, step=10, description='Pixel resolution²', continuous_update=False )\n",
    "        self.resolution_slider.observe(self.resolution_update,'value')\n",
    "\n",
    "        outbox = widgets.Box([output])\n",
    "        outbox.layout = make_box_layout()\n",
    "    \n",
    "        self.resolution_slider.layout = make_box_layout()\n",
    "    \n",
    "        self.children = [ self.resolution_slider, outbox ]\n"
   ]
  },
  {
   "cell_type": "code",
   "execution_count": null,
   "metadata": {},
   "outputs": [],
   "source": [
    "mandel3d()"
   ]
  },
  {
   "cell_type": "markdown",
   "metadata": {},
   "source": [
    "# repeat"
   ]
  },
  {
   "cell_type": "markdown",
   "metadata": {},
   "source": [
    "Hold mouse 1 to rotate  \n",
    "Hold mouse 2 to zoom"
   ]
  },
  {
   "cell_type": "code",
   "execution_count": null,
   "metadata": {},
   "outputs": [],
   "source": [
    "fig = plt.figure()\n",
    "ax = fig.gca(projection='3d')\n",
    "# Plot the surface.\n",
    "surf = ax.plot_surface(X, Y, itNum, cmap=cm.coolwarm,\n",
    "                       linewidth=0, antialiased=True)#False\n",
    "# Customize the z axis.\n",
    "#ax.set_zlim(-1.01, 1.01)\n",
    "ax.zaxis.set_major_locator(LinearLocator(10))\n",
    "ax.zaxis.set_major_formatter(FormatStrFormatter('%.02f'))\n",
    "\n",
    "# Add a color bar which maps values to colors.\n",
    "fig.colorbar(surf, shrink=0.5, aspect=5)\n",
    "\n",
    "plt.show()"
   ]
  },
  {
   "cell_type": "code",
   "execution_count": null,
   "metadata": {
    "lines_to_next_cell": 1
   },
   "outputs": [],
   "source": [
    "fig = plt.figure()\n",
    "ax = fig.gca(projection='3d')\n",
    "# Plot the surface.\n",
    "surf = ax.contourf(x, y, itNum, cmap=cm.coolwarm,\n",
    "                       antialiased=True)#False\n",
    "\n",
    "# Add a color bar which maps values to colors.\n",
    "fig.colorbar(surf, shrink=0.5, aspect=5)\n",
    "\n",
    "plt.show()"
   ]
  },
  {
   "cell_type": "code",
   "execution_count": null,
   "metadata": {},
   "outputs": [],
   "source": [
    "#type(ax),dir(ax)\n",
    "plt.isinteractive() #switch: ion() ioff()\n",
    "ax.can_zoom()"
   ]
  },
  {
   "cell_type": "markdown",
   "metadata": {},
   "source": [
    "# HeatMap"
   ]
  },
  {
   "cell_type": "code",
   "execution_count": null,
   "metadata": {},
   "outputs": [],
   "source": [
    "from mpl_interactions import  heatmap_slicer #interactive_plot, interactive_plot_factory,\n",
    "fig,axes = heatmap_slicer( x,y,Z,slices='both',heatmap_names=('mandelbrot'),figsize=(21, 6),labels=('Some wild X variable'),interaction_type='move')"
   ]
  },
  {
   "cell_type": "markdown",
   "metadata": {},
   "source": [
    "# Original"
   ]
  },
  {
   "cell_type": "code",
   "execution_count": null,
   "metadata": {
    "lines_to_next_cell": 0
   },
   "outputs": [],
   "source": [
    "fig = plt.figure()\n",
    "ax = fig.gca(projection='3d')\n",
    "\n",
    "# Make data.\n",
    "X = np.arange(-5, 5, 0.25)\n",
    "Y = np.arange(-5, 5, 0.25)\n",
    "X, Y = np.meshgrid(X, Y)\n",
    "R = np.sqrt(X**2 + Y**2)\n",
    "Z = np.sin(R)\n",
    "\n",
    "# Plot the surface.\n",
    "surf = ax.plot_surface(X, Y, Z, cmap=cm.coolwarm,\n",
    "                       linewidth=0, antialiased=False)\n",
    "\n",
    "# Customize the z axis.\n",
    "ax.set_zlim(-1.01, 1.01)\n",
    "ax.zaxis.set_major_locator(LinearLocator(10))\n",
    "ax.zaxis.set_major_formatter(FormatStrFormatter('%.02f'))\n",
    "\n",
    "# Add a color bar which maps values to colors.\n",
    "fig.colorbar(surf, shrink=0.5, aspect=5)\n",
    "\n",
    "plt.show()"
   ]
  },
  {
   "cell_type": "markdown",
   "metadata": {
    "lines_to_next_cell": 2
   },
   "source": [
    "# add collections"
   ]
  },
  {
   "cell_type": "code",
   "execution_count": null,
   "metadata": {},
   "outputs": [],
   "source": [
    " matplotlib.pyplot as plt\n",
    "from matplotdasdlib import collections, colors, transforms\n",
    "import numpy as np\n",
    "\n",
    "nverts = 50\n",
    "npts = 100\n",
    "\n",
    "# Make some spirals\n",
    "r = np.arange(nverts)\n",
    "theta = np.linspace(0, 2*np.pi, nverts)\n",
    "xx = r * np.sin(theta)\n",
    "yy = r * np.cos(theta)\n",
    "spiral = np.column_stack([xx, yy])\n",
    "\n",
    "# Fixing random state for reproducibility\n",
    "rs = np.random.RandomState(19680801)\n",
    "\n",
    "# Make some offsets\n",
    "xyo = rs.randn(npts, 2)\n",
    "\n",
    "# Make a list of colors cycling through the default series.\n",
    "colors = [colors.to_rgba(c)\n",
    "          for c in plt.rcParams['axes.prop_cycle'].by_key()['color']]\n",
    "\n",
    "fig, ((ax1, ax2), (ax3, ax4)) = plt.subplots(2, 2)\n",
    "fig.subplots_adjust(top=0.92, left=0.07, right=0.97,\n",
    "                    hspace=0.3, wspace=0.3)\n",
    "\n",
    "\n",
    "col = collections.LineCollection([spiral], offsets=xyo,\n",
    "                                 transOffset=ax1.transData)\n",
    "trans = fig.dpi_scale_trans + transforms.Affine2D().scale(1.0/72.0)\n",
    "col.set_transform(trans)  # the points to pixels transform\n",
    "# Note: the first argument to the collection initializer\n",
    "# must be a list of sequences of (x, y) tuples; we have only\n",
    "# one sequence, but we still have to put it in a list.\n",
    "ax1.add_collection(col, autolim=True)\n",
    "# autolim=True enables autoscaling.  For collections with\n",
    "# offsets like this, it is neither efficient nor accurate,\n",
    "# but it is good enough to generate a plot that you can use\n",
    "# as a starting point.  If you know beforehand the range of\n",
    "# x and y that you want to show, it is better to set them\n",
    "# explicitly, leave out the autolim kwarg (or set it to False),\n",
    "# and omit the 'ax1.autoscale_view()' call below.\n",
    "\n",
    "# Make a transform for the line segments such that their size is\n",
    "# given in points:\n",
    "col.set_color(colors)\n",
    "\n",
    "ax1.autoscale_view()  # See comment above, after ax1.add_collection.\n",
    "ax1.set_title('LineCollection using offsets')\n",
    "\n",
    "\n",
    "# The same data as above, but fill the curves.\n",
    "col = collections.PolyCollection([spiral], offsets=xyo,\n",
    "                                 transOffset=ax2.transData)\n",
    "trans = transforms.Affine2D().scale(fig.dpi/72.0)\n",
    "col.set_transform(trans)  # the points to pixels transform\n",
    "ax2.add_collection(col, autolim=True)\n",
    "col.set_color(colors)\n",
    "\n",
    "\n",
    "ax2.autoscale_view()\n",
    "ax2.set_title('PolyCollection using offsets')\n",
    "\n",
    "# 7-sided regular polygons\n",
    "\n",
    "col = collections.RegularPolyCollection(\n",
    "    7, sizes=np.abs(xx) * 10.0, offsets=xyo, transOffset=ax3.transData)\n",
    "trans = transforms.Affine2D().scale(fig.dpi / 72.0)\n",
    "col.set_transform(trans)  # the points to pixels transform\n",
    "ax3.add_collection(col, autolim=True)\n",
    "col.set_color(colors)\n",
    "ax3.autoscale_view()\n",
    "ax3.set_title('RegularPolyCollection using offsets')\n",
    "\n",
    "\n",
    "# Simulate a series of ocean current profiles, successively\n",
    "# offset by 0.1 m/s so that they form what is sometimes called\n",
    "# a \"waterfall\" plot or a \"stagger\" plot.\n",
    "\n",
    "nverts = 60\n",
    "ncurves = 20\n",
    "offs = (0.1, 0.0)\n",
    "\n",
    "yy = np.linspace(0, 2*np.pi, nverts)\n",
    "ym = np.max(yy)\n",
    "xx = (0.2 + (ym - yy) / ym) ** 2 * np.cos(yy - 0.4) * 0.5\n",
    "segs = []\n",
    "for i in range(ncurves):\n",
    "    xxx = xx + 0.02*rs.randn(nverts)\n",
    "    curve = np.column_stack([xxx, yy * 100])\n",
    "    segs.append(curve)\n",
    "\n",
    "col = collections.LineCollection(segs, offsets=offs)\n",
    "ax4.add_collection(col, autolim=True)\n",
    "col.set_color(colors)\n",
    "ax4.autoscale_view()\n",
    "ax4.set_title('Successive data offsets')\n",
    "ax4.set_xlabel('Zonal velocity component (m/s)')\n",
    "ax4.set_ylabel('Depth (m)')\n",
    "# Reverse the y-axis so depth increases downward\n",
    "ax4.set_ylim(ax4.get_ylim()[::-1])\n",
    "\n",
    "\n",
    "plt.show()"
   ]
  }
 ],
 "metadata": {
  "jupytext": {
   "encoding": "# -*- coding: utf-8 -*-"
  },
  "kernelspec": {
   "display_name": "Python 3",
   "language": "python",
   "name": "python3"
  },
  "language_info": {
   "codemirror_mode": {
    "name": "ipython",
    "version": 3
   },
   "file_extension": ".py",
   "mimetype": "text/x-python",
   "name": "python",
   "nbconvert_exporter": "python",
   "pygments_lexer": "ipython3",
   "version": "3.7.3"
  },
  "widgets": {
   "application/vnd.jupyter.widget-state+json": {
    "state": {},
    "version_major": 2,
    "version_minor": 0
   }
  }
 },
 "nbformat": 4,
 "nbformat_minor": 4
}
