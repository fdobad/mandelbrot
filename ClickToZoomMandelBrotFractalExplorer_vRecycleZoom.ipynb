{
 "cells": [
  {
   "cell_type": "markdown",
   "metadata": {},
   "source": [
    "__CLICK TO ZOOM MANDELBROT FRACTAL INTERACTIVE NAVIGATOR__\n",
    "- __Left click to zoom In,__  \n",
    "- __Right click to zoom Out.__  \n",
    "- Figure is resizable (__bottom right drag__), but depending on your hardware it could get too slow\n",
    "  - 1000x1000 pixels runs ok, meaning a million calculations (* max_iter) each draw\n",
    "  - There's a glitch on the dpi getter so resize first -_ONCE_, then navigate later is recommended."
   ]
  },
  {
   "cell_type": "markdown",
   "metadata": {},
   "source": [
    "# Speed calculations by using a C compiled function\n",
    "## Use a binary\n",
    " - Called mandelbrot.cpython-37m-x86_64-linux-gnu.so  \n",
    " - Compile it by running the setup.py pointing to mandelbrot.pyx file  \n",
    "Then just import it:"
   ]
  },
  {
   "cell_type": "code",
   "execution_count": 1,
   "metadata": {},
   "outputs": [],
   "source": [
    "from mandelbrot import mandelbrot"
   ]
  },
  {
   "cell_type": "markdown",
   "metadata": {},
   "source": [
    "## Or compile it on the fly using cython"
   ]
  },
  {
   "cell_type": "code",
   "execution_count": 2,
   "metadata": {},
   "outputs": [],
   "source": [
    "%load_ext cython"
   ]
  },
  {
   "cell_type": "code",
   "execution_count": 3,
   "metadata": {},
   "outputs": [],
   "source": [
    "%%cython\n",
    "cpdef halfGridMandelbrot( int[:,::1] itBreak, float left, float dx, int rx,\n",
    "                                      float bottom, float dy, int ry, int maxIter):\n",
    "    cdef complex z, c\n",
    "    cdef int x, y, it\n",
    "    \n",
    "    cdef float dx2 = 2 * dx\n",
    "    cdef float dy2 = 2 * dy\n",
    "    \n",
    "    c = left + dx\n",
    "    for x in range(1, rx, 2):\n",
    "        c.imag = bottom\n",
    "        for y in range(0, ry):\n",
    "            #print('fila impar',x,' todos col',y)\n",
    "            z = c\n",
    "            for it in range(maxIter):\n",
    "                if z.real**2+z.imag**2 >= 4:\n",
    "                    break\n",
    "                else:\n",
    "                    z = z*z + c\n",
    "            itBreak[y,x] = it\n",
    "            #print('c[{},{}]={}\\tit={}'.format(x,y,c,it))\n",
    "            c += 1j* dy\n",
    "        c += dx2\n",
    "            \n",
    "    c = left\n",
    "    for x in range(0, rx, 2):\n",
    "        c.imag = bottom + dy\n",
    "        for y in range(1, ry, 2):\n",
    "            #print('fila par', x, 'col impar',y)\n",
    "            z = c \n",
    "            for it in range(maxIter):\n",
    "                if z.real**2+z.imag**2 >= 4:\n",
    "                    break\n",
    "                else:\n",
    "                    z = z*z + c\n",
    "            itBreak[y,x] = it\n",
    "            #print('c[{},{}]={}\\tit={}'.format(x,y,c,it))\n",
    "            c += 1j* dy2\n",
    "        c += dx2  "
   ]
  },
  {
   "cell_type": "raw",
   "metadata": {},
   "source": [
    "%%cython\n",
    "cpdef mandelbrot( int[:,::1] itBreak, float left, float dx, int rx,\n",
    "                                      float bottom, float dy, int ry, int maxIter):\n",
    "    cdef complex z, c\n",
    "    cdef int x, y, it\n",
    "    c = left # + 1j* bottom\n",
    "    for x in range(rx):\n",
    "        c.imag = bottom\n",
    "        for y in range(ry):\n",
    "            z = c\n",
    "            for it in range(maxIter):\n",
    "                if z.real**2+z.imag**2 >= 4:\n",
    "                    #print('Brk i{},j{},it{},c{}'.format(x,y,it,c))\n",
    "                    break\n",
    "                else:\n",
    "                    #print('NoB i{},j{},it{},c{}'.format(x,y,it,c))\n",
    "                    z = z*z + c\n",
    "            itBreak[y,x] = it\n",
    "            #print('i{},j{},it{},c{}'.format(x,y,it,c))\n",
    "            c += 1j* dy\n",
    "        c += dx"
   ]
  },
  {
   "cell_type": "markdown",
   "metadata": {},
   "source": [
    "## Small speed gains\n",
    "Disabling both autosave and 'Settings>Save Widget State Automatically' also helps"
   ]
  },
  {
   "cell_type": "raw",
   "metadata": {},
   "source": [
    "%autosave 0"
   ]
  },
  {
   "cell_type": "markdown",
   "metadata": {},
   "source": [
    "# Import\n",
    "Check https://github.com/matplotlib/ipympl for installation, but `!pip install ipympl matplotlib numpy Cython` is a start for troubleshooting.  \n",
    "Also there's a tk and Qt5 backend versions on the repo on separate py files"
   ]
  },
  {
   "cell_type": "code",
   "execution_count": 4,
   "metadata": {},
   "outputs": [],
   "source": [
    "%matplotlib widget\n",
    "import matplotlib.pyplot as plt\n",
    "import numpy as np"
   ]
  },
  {
   "cell_type": "markdown",
   "metadata": {},
   "source": [
    "## If starting over without reseting the whole kernel"
   ]
  },
  {
   "cell_type": "code",
   "execution_count": 5,
   "metadata": {},
   "outputs": [],
   "source": [
    "plt.close()"
   ]
  },
  {
   "cell_type": "markdown",
   "metadata": {},
   "source": [
    "# This is it"
   ]
  },
  {
   "cell_type": "code",
   "execution_count": 6,
   "metadata": {},
   "outputs": [],
   "source": [
    "def halfZoomBounds(left, right, bottom, top, rx, ry, exd, eyd):\n",
    "    x = np.linspace(left, right, rx)\n",
    "    y = np.linspace(bottom, top, ry)\n",
    "    \n",
    "    nix = np.argmin(np.abs(x-exd))\n",
    "    niy = np.argmin(np.abs(y-eyd))\n",
    "    \n",
    "    nlix = nix-int(rx/4)\n",
    "    nrix = nix+int(rx/4)\n",
    "    nbiy = niy-int(ry/4)\n",
    "    ntiy = niy+int(ry/4)\n",
    "    \n",
    "    newleft  = x[nlix]\n",
    "    newright = x[nrix]\n",
    "    newbottom= y[nbiy]\n",
    "    newtop   = y[ntiy]\n",
    "    \n",
    "    return newleft, newright, newbottom, newtop, rx, ry, nlix, nrix, nbiy, ntiy"
   ]
  },
  {
   "cell_type": "code",
   "execution_count": 7,
   "metadata": {},
   "outputs": [],
   "source": [
    "def correct4divisibility(x):\n",
    "    r = x%4\n",
    "    if r==0: #%100%4\n",
    "        return x\n",
    "    elif r<3:\n",
    "        return x-r\n",
    "    else:\n",
    "        return x+1"
   ]
  },
  {
   "cell_type": "code",
   "execution_count": 9,
   "metadata": {},
   "outputs": [
    {
     "data": {
      "application/vnd.jupyter.widget-view+json": {
       "model_id": "8243f6b9535c4afda2da4011de140799",
       "version_major": 2,
       "version_minor": 0
      },
      "text/plain": [
       "Canvas(toolbar=Toolbar(toolitems=[('Home', 'Reset original view', 'home', 'home'), ('Back', 'Back to previous …"
      ]
     },
     "metadata": {},
     "output_type": "display_data"
    }
   ],
   "source": [
    "def button_press(event):\n",
    "    global c, coords, pendingDraw\n",
    "    #print(event.name, 'I', c, pendingDraw, sep=',', end='; ')\n",
    "    ax = event.inaxes \n",
    "    if event.button == 1:\n",
    "        #print('# deal with zoom in')        \n",
    "        left, right, bottom, top, rx, ry, nlix, nrix, nbiy, ntiy = halfZoomBounds(*coords[c],event.xdata,event.ydata)\n",
    "        c+=1\n",
    "        coords[c] = [left, right, bottom, top, rx, ry ]\n",
    "        ax.set_xlim(left,right)\n",
    "        ax.set_ylim(bottom,top)\n",
    "        # Here you can choose from drawing directly (A) or show the zooming then redrawing (B)\n",
    "        # A\n",
    "        halfMandraw(ax, left, right, bottom, top, rx, ry , nlix, nrix, nbiy, ntiy)\n",
    "        pendingDraw=False\n",
    "        # B\n",
    "        #pendingDraw=True\n",
    "        ft.set_text('zoom In {} times, {:.1E} pixels calculated'.format(c, rx*ry*3/4))\n",
    "    elif event.button == 3:\n",
    "        #print('# deal with zoom out')\n",
    "        if c==0:\n",
    "            #print('Already initial image, not zooming out')\n",
    "            ft.set_text('Already initial image, not zooming out')\n",
    "            return\n",
    "        c-=1\n",
    "        left, right, bottom, top, rx, ry = coords[c]\n",
    "        ax.set_xlim(left,right)\n",
    "        ax.set_ylim(bottom,top)\n",
    "        ft.set_text('zoom Out to {}'.format(c))\n",
    "        pendingDraw=False\n",
    "    else:\n",
    "        # deal with something that should never happen\n",
    "        print('wtf!')\n",
    "    #plt.ion()\n",
    "    #print('done!')\n",
    "    #print(event.name, 'F', c, pendingDraw, sep=',', end='; ')\n",
    "\n",
    "def resize(event):\n",
    "    global coords, pendingDraw\n",
    "    #print(event.name, 'I', c, pendingDraw, sep=',', end='; ')\n",
    "    rx, ry = get_ax_wh(fig, ax)\n",
    "    ft.set_text('Resize w{}, h{}, dpi{}'.format( rx, ry, fig.dpi))\n",
    "    coords[c][4]=correct4divisibility(rx)\n",
    "    coords[c][5]=correct4divisibility(ry)\n",
    "    pendingDraw=True\n",
    "    #print(event.name, 'F', c, pendingDraw, sep=',', end='; ')\n",
    "\n",
    "def draw(event):\n",
    "    global pendingDraw\n",
    "    #print('pre draw', 'I', c, pendingDraw, sep=',', end='; ')\n",
    "    if pendingDraw:\n",
    "        #print(event.name, c, sep=',', end='; ')\n",
    "        mandraw(ax, *coords[c] )\n",
    "    else:\n",
    "        pass\n",
    "        #print(event.name, 'avoided')\n",
    "    #print('post draw', 'F', c, pendingDraw, sep=',', end='; ')\n",
    "\n",
    "def get_ax_wh(fig,ax):\n",
    "    bbox = ax.get_window_extent().transformed(fig.dpi_scale_trans.inverted())\n",
    "    width, height = int(bbox.width*fig.dpi), int(bbox.height*fig.dpi)    \n",
    "    return width, height\n",
    "\n",
    "def mandraw(ax, left, right, bottom, top, rx, ry ):\n",
    "    global pendingDraw, b\n",
    "    #print('pre mandraw', 'I', c, pendingDraw, sep=',', end='; ')\n",
    "    dx = (right - left ) / rx\n",
    "    dy = (top - bottom) / ry\n",
    "    z = np.zeros((ry,rx), dtype=np.int32)\n",
    "    b = z\n",
    "    mandelbrot( z, left, dx, rx, bottom, dy, ry, maxIter) \n",
    "    ax.pcolorfast( (left,right), (bottom,top), z, cmap='terrain', vmin=0, vmax=maxIter)\n",
    "    pendingDraw=False\n",
    "    #print('post mandraw', 'F', c, pendingDraw, sep=',', end=';\\n')\n",
    "    \n",
    "def halfMandraw(ax, left, right, bottom, top, rx, ry , nlix, nrix, nbiy, ntiy):\n",
    "    global pendingDraw, b\n",
    "    #print('pre mandraw', 'I', c, pendingDraw, sep=',', end='; ')\n",
    "    dx = (right - left ) / rx\n",
    "    dy = (top - bottom) / ry\n",
    "    z = np.ones((ry,rx), dtype=np.int32)\n",
    "    halfGridMandelbrot( z, left, dx, rx, bottom, dy, ry, maxIter)\n",
    "    \n",
    "    #print('nlix, nrix, nbiy, ntiy',nlix, nrix, nbiy, ntiy)\n",
    "    \n",
    "    for i,vi in enumerate(range( nlix, nrix)):\n",
    "        for j,vj in enumerate(range( nbiy, ntiy)): \n",
    "            #print(i,' ',j)\n",
    "            z[j*2,i*2] = b[vj,vi]\n",
    "    \n",
    "    ax.pcolorfast( (left,right), (bottom,top), z, cmap='terrain', vmin=0, vmax=maxIter)\n",
    "    b=z\n",
    "    pendingDraw=False\n",
    "    #print('post mandraw', 'F', c, pendingDraw, sep=',', end=';\\n')\n",
    "    \n",
    "# init plot\n",
    "fig, ax = plt.subplots()\n",
    "fig.set_size_inches(600/fig.dpi,600/fig.dpi)\n",
    "fig.canvas.toolbar_visible = False\n",
    "fig.canvas.header_visible = False\n",
    "fig.canvas.footer_visible = False\n",
    "\n",
    "# connect events\n",
    "ids=dict()\n",
    "#ids[]=fig.canvas.mpl_connect('',)\n",
    "ids['draw'] = fig.canvas.mpl_connect('draw_event', draw) \n",
    "ids['resize'] = fig.canvas.mpl_connect('resize_event', resize)\n",
    "ids['button_press'] = fig.canvas.mpl_connect('button_press_event', button_press)\n",
    "\n",
    "# Initial data\n",
    "left, right = np.float64((-2.0, 0.66))\n",
    "bottom, top = np.float64((-1.4, 1.4))\n",
    "rx, ry = correct4divisibility(16), correct4divisibility(24)\n",
    "b = np.zeros((ry,rx), dtype=np.int32)\n",
    "coords=dict()\n",
    "c=0\n",
    "coords[c] = [left, right, bottom, top, rx, ry ] #print(c,coords[c])\n",
    "pendingDraw=False\n",
    "maxIter=63\n",
    "\n",
    "# Initial plot\n",
    "ft = fig.text(0.5,0.9,'w{}, h{}, dpi{}'.format( *get_ax_wh(fig,ax), fig.dpi))\n",
    "mandraw(ax, left, right, bottom, top, rx, ry )"
   ]
  },
  {
   "cell_type": "markdown",
   "metadata": {},
   "source": [
    "## Not seeing enough colors (mainly inside the fractal)?\n",
    "Increase the max iteration parameter, beware it also slows down."
   ]
  },
  {
   "cell_type": "code",
   "execution_count": 11,
   "metadata": {},
   "outputs": [
    {
     "data": {
      "application/vnd.jupyter.widget-view+json": {
       "model_id": "b6c6fd6f5ddc49329084122ad4f3f334",
       "version_major": 2,
       "version_minor": 0
      },
      "text/plain": [
       "BoundedIntText(value=163, description='Upper bound cut off iteration number:', max=512, min=1, step=10, style=…"
      ]
     },
     "metadata": {},
     "output_type": "display_data"
    }
   ],
   "source": [
    "from ipywidgets import BoundedIntText\n",
    "bit = BoundedIntText( value=maxIter, min=1, max=256*2, step=10, description='Upper bound cut off iteration number:',\n",
    "    disabled=False, style = {'description_width': 'initial'} )\n",
    "def change_max_iter(change):\n",
    "    global maxIter, pendingDraw\n",
    "    if isinstance(change.new,int):\n",
    "        maxIter = change.new\n",
    "        pendingDraw=True\n",
    "        fig.canvas.send_event('draw')\n",
    "        #print(maxIter, pendingDraw, c, pendingDraw, sep=',', end=';\\n')\n",
    "bit.observe(change_max_iter)\n",
    "bit"
   ]
  },
  {
   "cell_type": "code",
   "execution_count": null,
   "metadata": {},
   "outputs": [],
   "source": [
    "def fsize():\n",
    "    bbox = ax.get_window_extent().transformed(fig.dpi_scale_trans.inverted())\n",
    "    axwidth, axheight = bbox.width, bbox.height\n",
    "    axwidth *= fig.dpi\n",
    "    axheight *= fig.dpi\n",
    "    \n",
    "    bbox = fig.get_window_extent().transformed(fig.dpi_scale_trans.inverted())\n",
    "    figwidth, figheight = bbox.width, bbox.height\n",
    "    figwidth *= fig.dpi\n",
    "    figheight *= fig.dpi\n",
    "    \n",
    "    return axwidth, axheight, figwidth, figheight, fig.dpi, axwidth/figwidth, axheight/figheight\n",
    "\n",
    "fsize()"
   ]
  },
  {
   "cell_type": "code",
   "execution_count": null,
   "metadata": {},
   "outputs": [],
   "source": []
  }
 ],
 "metadata": {
  "kernelspec": {
   "display_name": "Python 3",
   "language": "python",
   "name": "python3"
  },
  "language_info": {
   "codemirror_mode": {
    "name": "ipython",
    "version": 3
   },
   "file_extension": ".py",
   "mimetype": "text/x-python",
   "name": "python",
   "nbconvert_exporter": "python",
   "pygments_lexer": "ipython3",
   "version": "3.7.3"
  },
  "toc-autonumbering": true,
  "widgets": {
   "application/vnd.jupyter.widget-state+json": {
    "state": {},
    "version_major": 2,
    "version_minor": 0
   }
  }
 },
 "nbformat": 4,
 "nbformat_minor": 4
}
