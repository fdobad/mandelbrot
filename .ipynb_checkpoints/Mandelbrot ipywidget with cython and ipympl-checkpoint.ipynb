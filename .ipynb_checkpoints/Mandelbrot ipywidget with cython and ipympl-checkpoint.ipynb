{
 "cells": [
  {
   "cell_type": "markdown",
   "metadata": {},
   "source": [
    "# **import** Mandelbrot Cython, ipywidget with ipympl matplotlib"
   ]
  },
  {
   "cell_type": "code",
   "execution_count": 10,
   "metadata": {},
   "outputs": [
    {
     "name": "stdout",
     "output_type": "stream",
     "text": [
      "The Cython extension is already loaded. To reload it, use:\n",
      "  %reload_ext Cython\n"
     ]
    }
   ],
   "source": [
    "%load_ext Cython\n",
    "%matplotlib widget\n",
    "import numpy as np\n",
    "import ipywidgets as widgets\n",
    "from ipywidgets import Layout\n",
    "import matplotlib.pyplot as plt"
   ]
  },
  {
   "cell_type": "markdown",
   "metadata": {},
   "source": [
    "## Mandelbrot called from C(ython)"
   ]
  },
  {
   "cell_type": "code",
   "execution_count": 11,
   "metadata": {},
   "outputs": [],
   "source": [
    "%%cython\n",
    "cpdef Mandelbrot(int[:,::1] Z, float xl, float xr, float yd, float yu, int Rx, int Ry, int maxIter ) : #except *:\n",
    "    cdef int y, x, n\n",
    "    cdef complex z, c\n",
    "    cdef float dx=Rx/(xr-xl)\n",
    "    cdef float dy=Ry/(yu-yd)\n",
    "    for y in range(Ry):\n",
    "        for x in range(Rx):\n",
    "            c = xl + x / dx + 1j*(yu - y / dy)\n",
    "            z = 0\n",
    "            for n in range(maxIter):\n",
    "                if z.real**2 + z.imag**2 >= 4:\n",
    "                    break\n",
    "                z = z*z + c\n",
    "            Z[y, x] = n"
   ]
  },
  {
   "cell_type": "markdown",
   "metadata": {},
   "source": [
    "## User interface, observe events"
   ]
  },
  {
   "cell_type": "code",
   "execution_count": 12,
   "metadata": {},
   "outputs": [
    {
     "data": {
      "application/vnd.jupyter.widget-view+json": {
       "model_id": "6679295e9091420f8c4c0adfe6834353",
       "version_major": 2,
       "version_minor": 0
      },
      "text/plain": [
       "HBox(children=(Output(), HBox(children=(HBox(children=(FloatRangeSlider(value=(-2.0, 0.66), continuous_update=…"
      ]
     },
     "metadata": {},
     "output_type": "display_data"
    }
   ],
   "source": [
    "output = widgets.Output()\n",
    "with output:\n",
    "    fig = plt.figure(figsize=(8,8))\n",
    "    fig.canvas.toolbar_position = 'left'\n",
    "    fig.canvas.header_visible = False\n",
    "    #fig.canvas.capture_scroll = True\n",
    "    #fig.canvas.footer_visible = False\n",
    "    ax = fig.add_subplot(111)\n",
    "    ax.set_xlabel('Real numbers')\n",
    "    ax.set_ylabel('Imaginary numbers')\n",
    "    plt.tight_layout()\n",
    "\n",
    "# create some intial data\n",
    "xl, xr = -2.0, 0.66\n",
    "yd, yu = -1.4, 1.4\n",
    "Rx, Ry = 302, 302\n",
    "maxIter= 200\n",
    "\n",
    "def redraw(xl, xr, yd, yu, Rx, Ry, maxIter, output):\n",
    "    with output:\n",
    "        Z=np.zeros((Ry,Rx), dtype=np.int32)\n",
    "        Mandelbrot(Z, xl, xr, yd, yu, Rx, Ry, maxIter)\n",
    "        xoffset= (xr-xl)/(2*Rx)\n",
    "        yoffset= (yu-yd)/(2*Ry)\n",
    "        # CLEAR AXES\n",
    "        ax.cla()\n",
    "        im = ax.imshow(Z, interpolation='none', aspect='equal',\n",
    "                       origin='upper',\n",
    "                       extent=[xl+xoffset, xr+xoffset, yd+yoffset, yu+yoffset] )\n",
    "                        # check https://matplotlib.org/3.2.1/tutorials/intermediate/imshow_extent.html#\n",
    "        ax.set_xlabel('Real numbers')\n",
    "        ax.set_ylabel('Imaginary numbers')\n",
    "        return \"MandelPlot \"+\"{:,}\".format(Z.shape[0]*Z.shape[1])+\" pixels calculated\"\n",
    "\n",
    "# create some control elements\n",
    "xrange_picker = widgets.FloatRangeSlider(value=(xl,xr), min=-2.0, max=2.0, step=0.001, readout_format='.4f', description='real', \n",
    "                                         continuous_update=False, orientation='vertical', layout=Layout( height='90%', width='110%'))\n",
    "yrange_picker = widgets.FloatRangeSlider(value=(yd,yu), min=-1.8, max=1.8, step=0.001, readout_format='.4f', description='imaginary', \n",
    "                                         continuous_update=False, orientation='vertical', layout=Layout( height='90%', width='110%'))\n",
    "Rx_picker = widgets.IntText(value=302, min=2, max=10002, step=50, description='Real grid qty.', \n",
    "                            continuous_update=False, layout=Layout( width='90%'))\n",
    "Ry_picker = widgets.IntText(value=302, min=2, max=10002, step=50, description='Imaginary qty.', \n",
    "                            continuous_update=False, layout=Layout( width='90%'))\n",
    "maxIter_picker = widgets.IntText(value=200, min=1, max=1000, step=50, description='Iterations',\n",
    "                                 continuous_update=False, layout=Layout( width='90%'))\n",
    "reset_button = widgets.Button(description='Reset values!',\n",
    "                              continuous_update=False)\n",
    "title_Text = widgets.Label(layout=Layout( align_self='center' ))\n",
    "\n",
    "# callback functions\n",
    "def update(change):\n",
    "    xl, xr = xrange_picker.value\n",
    "    yd, yu = yrange_picker.value\n",
    "    Rx, Ry = Rx_picker.value, Ry_picker.value\n",
    "    maxIter= maxIter_picker.value\n",
    "    title_Text.value = redraw( xl, xr, yd, yu, Rx, Ry, maxIter, output)\n",
    "    \n",
    "def button_reset_clicked(change):\n",
    "    xl, xr = -2.0, 0.66\n",
    "    yd, yu = -1.4, 1.4\n",
    "    xrange_picker.value=(xl,xr)\n",
    "    yrange_picker.value=(yd,yu)\n",
    "    \n",
    "    Rx, Ry = 302, 302\n",
    "    Rx_picker.value, Ry_picker.value = Rx, Ry\n",
    "    \n",
    "    maxIter=200\n",
    "    maxIter_picker.value=maxIter\n",
    "    \n",
    "    title_Text.value = redraw( xl, xr, yd, yu, Rx, Ry, maxIter, output)\n",
    "    \n",
    "# connect callbacks and traits\n",
    "xrange_picker.observe(update, 'value')\n",
    "yrange_picker.observe(update, 'value')\n",
    "Rx_picker.observe(update, 'value')\n",
    "Ry_picker.observe(update, 'value')\n",
    "maxIter_picker.observe(update, 'value')\n",
    "reset_button.on_click(button_reset_clicked)\n",
    "    \n",
    "controls = widgets.HBox([widgets.HBox([xrange_picker, yrange_picker], layout=Layout( height='100%', width='101%')),\n",
    "                         widgets.VBox([title_Text, Rx_picker, Ry_picker, maxIter_picker,reset_button], layout=Layout( height='100%', width='99%'))\n",
    "                        ])\n",
    "\n",
    "title_Text.value = redraw(xl, xr, yd, yu, Rx, Ry, maxIter, output)\n",
    "widgets.HBox([output, controls])"
   ]
  },
  {
   "cell_type": "code",
   "execution_count": 4,
   "metadata": {},
   "outputs": [
    {
     "ename": "NameError",
     "evalue": "name 'Z' is not defined",
     "output_type": "error",
     "traceback": [
      "\u001b[0;31m---------------------------------------------------------------------------\u001b[0m",
      "\u001b[0;31mNameError\u001b[0m                                 Traceback (most recent call last)",
      "\u001b[0;32m<ipython-input-4-b4379bcb7951>\u001b[0m in \u001b[0;36m<module>\u001b[0;34m\u001b[0m\n\u001b[0;32m----> 1\u001b[0;31m \u001b[0mZ\u001b[0m\u001b[0;34m\u001b[0m\u001b[0;34m\u001b[0m\u001b[0m\n\u001b[0m",
      "\u001b[0;31mNameError\u001b[0m: name 'Z' is not defined"
     ]
    }
   ],
   "source": [
    "Z"
   ]
  },
  {
   "cell_type": "markdown",
   "metadata": {},
   "source": [
    "## User interface, observe events, encapsulate"
   ]
  },
  {
   "cell_type": "markdown",
   "metadata": {},
   "source": [
    "### ***box layout***"
   ]
  },
  {
   "cell_type": "code",
   "execution_count": 4,
   "metadata": {},
   "outputs": [],
   "source": [
    "def make_box_layout():\n",
    "     return widgets.Layout(\n",
    "        border='solid 1px black',\n",
    "        margin='0px 10px 10px 0px',\n",
    "        padding='5px 5px 5px 5px'\n",
    "     )"
   ]
  },
  {
   "cell_type": "markdown",
   "metadata": {},
   "source": [
    "### Iterable widget object"
   ]
  },
  {
   "cell_type": "markdown",
   "metadata": {},
   "source": [
    "#### Layout keywords  \n",
    "\n",
    "justify-content : space-around  \n",
    "    align-items : center  \n",
    "  align-content : space-around  \n",
    "\n",
    "from ipywidgets import AppLayout\n",
    "  AppLayout(\n",
    "    center=fig.canvas,\n",
    "    footer=slider,\n",
    "    pane_heights=[0, 6, 1]\n",
    ")\n",
    "\n",
    "#### AppLayout Object  \n",
    "\n",
    "AppLayout(center=m, \n",
    "          header=header,\n",
    "          left_sidebar=VBox([Label(\"Basemap:\"),\n",
    "                             basemap_selector,\n",
    "                             Label(\"Overlay:\"),\n",
    "                             heatmap_selector]),\n",
    "          right_sidebar=fig,\n",
    "          footer=out,\n",
    "          pane_widths=['80px', 1, 1],\n",
    "          pane_heights=['80px', 4, 1],\n",
    "          height='600px',\n",
    "          grid_gap=\"30px\")"
   ]
  },
  {
   "cell_type": "raw",
   "metadata": {},
   "source": [
    "class FdoLogger()\n",
    "    self.CurrentLog = 'Fdo start'\n",
    "    print('Fdo start')\n",
    "\n",
    "    def logginHere(logginString, self_textArea_value):\n",
    "        if len(self_textArea_value):\n",
    "            l='update slider %s->%s\\n'%(change.old,change.new)\n",
    "            print(logginHere, end=', ')\n",
    "        return logginString+self.textArea.value"
   ]
  },
  {
   "cell_type": "code",
   "execution_count": 5,
   "metadata": {},
   "outputs": [],
   "source": [
    "class Sins(widgets.HBox):\n",
    "    \n",
    "    def __init__(self):\n",
    "        super().__init__()\n",
    "        output = widgets.Output()\n",
    "\n",
    "        self.initial_color = '#FF00DD'\n",
    "        self.initial_freak = 2\n",
    "        self.x = np.linspace(0, 2 * np.pi, 100)\n",
    "\n",
    "        with output:\n",
    "            self.fig, self.ax = plt.subplots(constrained_layout=True, figsize=(5, 3.5))\n",
    "            self.line, = self.ax.plot(self.x, np.sin(self.x), self.initial_color)\n",
    "\n",
    "            self.fig.canvas.toolbar_position = 'left'\n",
    "            self.ax.grid(True)\n",
    "\n",
    "            # define widgets\n",
    "            self.intSlider = widgets.IntSlider( value=self.initial_freak, min=0, max=10, step=1, description='Superfreak')#, continuous_update=False)\n",
    "            self.resetButton = widgets.Button( description='Reset values!')\n",
    "            self.titleText = widgets.Label( value='Reset values!', layout=Layout( align_self='center') )\n",
    "            self.textArea = widgets.Textarea(  placeholder='Type something',  disabled=False )#,value='Hello World',description='Resultado:',\n",
    "                                               # layout=Layout( max_width='500px'))#value='Reset values!', layout=Layout( align_self='center' ))\n",
    "\n",
    "        # layout\n",
    "        controls = widgets.VBox([ self.titleText, self.intSlider, self.resetButton, self.textArea]) #, layout=Layout( width='100%')\n",
    "        controls.layout = make_box_layout()\n",
    "        \n",
    "        out_box = widgets.Box([output],layout=Layout( width='100%'))\n",
    "        output.layout = make_box_layout()\n",
    "        \n",
    "        # observe stuff\n",
    "        self.intSlider.observe(self.update, 'value')\n",
    "        self.resetButton.on_click(self.button_reset_pressed)\n",
    "        \n",
    "         # add to children\n",
    "        self.children = [controls, output]#out_box\n",
    "\n",
    "    def destroy(self):\n",
    "        self.fig.clf()\n",
    "    \n",
    "    def update(self, change):\n",
    "        \"\"\"Draw line in plot\"\"\"\n",
    "        logginHere='update slider %s->%s\\n'%(change.old,change.new)\n",
    "        print(logginHere, end=', ')\n",
    "        self.textArea.value=logginHere+self.textArea.value[:500]\n",
    "        self.line.set_ydata(np.sin(change.new * self.x))\n",
    "        self.fig.canvas.draw()\n",
    "        \n",
    "    def button_reset_pressed(self, change):\n",
    "        #self.ax.cla()\n",
    "        logginHere='reset button %s->%s'%(self.intSlider.value,self.initial_freak)\n",
    "        print(logginHere, end=', ')\n",
    "        self.textArea.value=logginHere#+self.textArea.value[:500]\n",
    "        self.intSlider.value=self.initial_freak\n",
    "        self.line.set_ydata(np.sin(self.initial_freak * self.x))\n",
    "            \n",
    "        "
   ]
  },
  {
   "cell_type": "code",
   "execution_count": 7,
   "metadata": {},
   "outputs": [
    {
     "data": {
      "application/vnd.jupyter.widget-view+json": {
       "model_id": "0086a6378f6d48ef82a7a55c7fcd3af5",
       "version_major": 2,
       "version_minor": 0
      },
      "text/plain": [
       "Sins(children=(VBox(children=(Label(value='Reset values!', layout=Layout(align_self='center')), IntSlider(valu…"
      ]
     },
     "metadata": {},
     "output_type": "display_data"
    }
   ],
   "source": [
    "a=Sins()\n",
    "a"
   ]
  },
  {
   "cell_type": "code",
   "execution_count": 8,
   "metadata": {},
   "outputs": [
    {
     "data": {
      "application/vnd.jupyter.widget-view+json": {
       "model_id": "e926317f40e745e38f07875358e141d0",
       "version_major": 2,
       "version_minor": 0
      },
      "text/plain": [
       "Canvas(toolbar=Toolbar(toolitems=[('Home', 'Reset original view', 'home', 'home'), ('Back', 'Back to previous …"
      ]
     },
     "metadata": {},
     "output_type": "display_data"
    }
   ],
   "source": [
    "from matplotlib.backend_bases import Event\n",
    "from ipympl.backend_nbagg import Toolbar\n",
    "\n",
    "#HOME\n",
    "home = Toolbar.home\n",
    "\n",
    "def new_home(self, *args, **kwargs):\n",
    "    s = 'home_event'\n",
    "    event = Event(s, self)\n",
    "    event.foo = 0\n",
    "    self.canvas.callbacks.process(s, event)\n",
    "    home(self, *args, **kwargs)\n",
    "\n",
    "Toolbar.home = new_home\n",
    "\n",
    "def handle_home(evt):\n",
    "    print('new home ',evt.foo)\n",
    "\n",
    "#ZOOM\n",
    "zoom = Toolbar.zoom\n",
    "\n",
    "def new_zoom(self, *args, **kwargs):\n",
    "    s = 'zoom_event'\n",
    "    event = Event(s, self)\n",
    "    event.foo = 1\n",
    "    self.canvas.callbacks.process(s, event)\n",
    "    zoom(self, *args, **kwargs)\n",
    "\n",
    "Toolbar.zoom = new_zoom\n",
    "\n",
    "def handle_zoom(evt):\n",
    "    print('new zoom ' , evt.foo, ax.get_xlim(), ax.get_ylim())\n",
    "\n",
    "#PRESS\n",
    "press_zoom = Toolbar.press_zoom\n",
    "\n",
    "def new_press_zoom(self, *args, **kwargs):\n",
    "    s = 'press_zoom_event'\n",
    "    event = Event(s, self)\n",
    "    event.foo = 2\n",
    "    self.canvas.callbacks.process(s, event)\n",
    "    press_zoom(self, *args, **kwargs)\n",
    "\n",
    "Toolbar.press_zoom = new_press_zoom\n",
    "\n",
    "def handle_press_zoom(evt):\n",
    "    print('new press_zoom ' , evt.foo, ax.get_xlim(), ax.get_ylim())\n",
    "\n",
    "#release\n",
    "release_zoom = Toolbar.release_zoom\n",
    "\n",
    "def new_release_zoom(self, *args, **kwargs):\n",
    "    s = 'release_zoom_event'\n",
    "    event = Event(s, self)\n",
    "    event.foo = 3\n",
    "    self.canvas.callbacks.process(s, event)\n",
    "    release_zoom(self, *args, **kwargs)\n",
    "\n",
    "Toolbar.release_zoom = new_release_zoom\n",
    "\n",
    "def handle_release_zoom(evt):\n",
    "    print('new release_zoom ' , evt.foo, ax.get_xlim(), ax.get_ylim())\n",
    "\n",
    "def onclick(event):\n",
    "    print('%s click: button=%d, x=%d, y=%d, xdata=%.3f, ydata=%.3f, name=%s' %\n",
    "          ('double' if event.dblclick else 'single', event.button,\n",
    "           event.x, event.y, event.xdata, event.ydata, event.name))    \n",
    "\n",
    "fig, ax = plt.subplots()\n",
    "\n",
    "fig.canvas.mpl_connect('home_event', handle_home)\n",
    "fig.canvas.mpl_connect('zoom_event', handle_zoom)\n",
    "fig.canvas.mpl_connect('press_zoom_event', handle_press_zoom)\n",
    "fig.canvas.mpl_connect('release_zoom_event', handle_release_zoom)\n",
    "cidPress   = fig.canvas.mpl_connect('button_press_event'  , onclick)\n",
    "cidDelease = fig.canvas.mpl_connect('button_release_event', onclick)\n",
    "\n",
    "ax.plot(np.random.rand(10))\n",
    "plt.text(0.35, 0.5, 'Hello world!', dict(size=30))\n",
    "plt.show()"
   ]
  },
  {
   "cell_type": "markdown",
   "metadata": {},
   "source": [
    "# Inspired by\n",
    "https://kapernikov.com/ipywidgets-with-matplotlib/"
   ]
  },
  {
   "cell_type": "code",
   "execution_count": 9,
   "metadata": {},
   "outputs": [
    {
     "data": {
      "application/vnd.jupyter.widget-view+json": {
       "model_id": "4e0d09e419c143c89865594a0577d226",
       "version_major": 2,
       "version_minor": 0
      },
      "text/plain": [
       "HBox(children=(VBox(children=(IntSlider(value=1, description='freq', max=10), ColorPicker(value='#FF00DD', des…"
      ]
     },
     "metadata": {},
     "output_type": "display_data"
    }
   ],
   "source": [
    "output = widgets.Output()\n",
    "\n",
    "# create some x data\n",
    "x = np.linspace(0, 2 * np.pi, 100)\n",
    "\n",
    "# default line color\n",
    "initial_color = '#FF00DD'\n",
    "\n",
    "with output:\n",
    "    fig, ax = plt.subplots(constrained_layout=True, figsize=(6, 4))\n",
    "    # move the toolbar to the bottom\n",
    "fig.canvas.toolbar_position = 'bottom'\n",
    "ax.grid(True)    \n",
    "line, = ax.plot(x, np.sin(x), initial_color)\n",
    "\n",
    "# create some control elements\n",
    "int_slider = widgets.IntSlider(value=1, min=0, max=10, step=1, description='freq')\n",
    "color_picker = widgets.ColorPicker(value=initial_color, description='pick a color')\n",
    "text_xlabel = widgets.Text(value='', description='xlabel', continuous_update=False)\n",
    "text_ylabel = widgets.Text(value='', description='ylabel', continuous_update=False)\n",
    "reset_button = widgets.Button(description=\"Reset values!\", layout=Layout(align_self='flex-end')) #center flex-end flex-start\n",
    "#reset_button.layout.align_self='center'\n",
    "\n",
    "# callback functions\n",
    "def update(change):\n",
    "    \"\"\"redraw line (update plot)\"\"\"\n",
    "    line.set_ydata(np.sin(change.new * x))\n",
    "    fig.canvas.draw()\n",
    "    \n",
    "def line_color(change):\n",
    "    \"\"\"set line color\"\"\"\n",
    "    line.set_color(change.new)\n",
    "    \n",
    "def update_xlabel(change):\n",
    "    ax.set_xlabel(change.new)\n",
    "    \n",
    "def update_ylabel(change):\n",
    "    ax.set_ylabel(change.new)\n",
    "    \n",
    "def on_button_clicked(wtf):\n",
    "    text_xlabel.value = 'x'\n",
    "    text_ylabel.value = 'y'\n",
    "    color_picker.value= initial_color\n",
    "    int_slider.value = 1\n",
    "    with output:\n",
    "        print('yey!')\n",
    "\n",
    "# connect callbacks and traits\n",
    "int_slider.observe(update, 'value')\n",
    "color_picker.observe(line_color, 'value')\n",
    "text_xlabel.observe(update_xlabel, 'value')\n",
    "text_ylabel.observe(update_ylabel, 'value')\n",
    "reset_button.on_click(on_button_clicked)\n",
    "\n",
    "text_xlabel.value = 'x'\n",
    "text_ylabel.value = 'y'\n",
    "\n",
    "controls = widgets.VBox([int_slider, color_picker, text_xlabel, text_ylabel, reset_button])\n",
    "widgets.HBox([controls, output])"
   ]
  },
  {
   "cell_type": "markdown",
   "metadata": {},
   "source": [
    "## Encapsulated/class version"
   ]
  },
  {
   "cell_type": "code",
   "execution_count": 10,
   "metadata": {},
   "outputs": [],
   "source": [
    "def make_box_layout():\n",
    "     return widgets.Layout(\n",
    "        border='solid 1px black',\n",
    "        margin='0px 10px 10px 0px',\n",
    "        padding='5px 5px 5px 5px'\n",
    "     )\n",
    "\n",
    "class Sines(widgets.HBox):\n",
    "    \n",
    "    def __init__(self):\n",
    "        super().__init__()\n",
    "        output = widgets.Output()\n",
    "\n",
    "        self.x = np.linspace(0, 2 * np.pi, 100)\n",
    "        initial_color = '#FF00DD'\n",
    "\n",
    "        with output:\n",
    "            self.fig, self.ax = plt.subplots(constrained_layout=True, figsize=(5, 3.5))\n",
    "        self.line, = self.ax.plot(self.x, np.sin(self.x), initial_color)\n",
    "        \n",
    "        self.fig.canvas.toolbar_position = 'bottom'\n",
    "        self.ax.grid(True)\n",
    "\n",
    "        # define widgets\n",
    "        int_slider = widgets.IntSlider(\n",
    "            value=1, \n",
    "            min=0, \n",
    "            max=10, \n",
    "            step=1, \n",
    "            description='freq'\n",
    "        )\n",
    "        color_picker = widgets.ColorPicker(\n",
    "            value=initial_color, \n",
    "            description='pick a color'\n",
    "        )\n",
    "        text_xlabel = widgets.Text(\n",
    "            value='', \n",
    "            description='xlabel', \n",
    "            continuous_update=False\n",
    "        )\n",
    "        text_ylabel = widgets.Text(\n",
    "            value='', \n",
    "            description='ylabel', \n",
    "            continuous_update=False\n",
    "        )\n",
    "\n",
    "        controls = widgets.VBox([\n",
    "            int_slider, \n",
    "            color_picker, \n",
    "            text_xlabel, \n",
    "            text_ylabel\n",
    "        ])\n",
    "        controls.layout = make_box_layout()\n",
    "        \n",
    "        out_box = widgets.Box([output])\n",
    "        output.layout = make_box_layout()\n",
    "\n",
    "        # observe stuff\n",
    "        int_slider.observe(self.update, 'value')\n",
    "        color_picker.observe(self.line_color, 'value')\n",
    "        text_xlabel.observe(self.update_xlabel, 'value')\n",
    "        text_ylabel.observe(self.update_ylabel, 'value')\n",
    "        \n",
    "        text_xlabel.value = 'x'\n",
    "        text_ylabel.value = 'y'\n",
    "        \n",
    "        # add to children\n",
    "        self.children = [controls, output]\n",
    "    \n",
    "    def update(self, change):\n",
    "        \"\"\"Draw line in plot\"\"\"\n",
    "        self.line.set_ydata(np.sin(change.new * self.x))\n",
    "        self.fig.canvas.draw()\n",
    "\n",
    "    def line_color(self, change):\n",
    "        self.line.set_color(change.new)\n",
    "\n",
    "    def update_xlabel(self, change):\n",
    "        self.ax.set_xlabel(change.new)\n",
    "\n",
    "    def update_ylabel(self, change):\n",
    "        self.ax.set_ylabel(change.new)\n",
    "        \n",
    "        \n",
    "#Sines()"
   ]
  },
  {
   "cell_type": "code",
   "execution_count": 11,
   "metadata": {},
   "outputs": [
    {
     "data": {
      "application/vnd.jupyter.widget-view+json": {
       "model_id": "2b81949992d742ef86815dce36cec45d",
       "version_major": 2,
       "version_minor": 0
      },
      "text/plain": [
       "Sines(children=(VBox(children=(IntSlider(value=1, description='freq', max=10), ColorPicker(value='#FF00DD', de…"
      ]
     },
     "metadata": {},
     "output_type": "display_data"
    }
   ],
   "source": [
    "Sines()"
   ]
  },
  {
   "cell_type": "markdown",
   "metadata": {},
   "source": [
    "# Yet another mandelbrot calculation using C\n",
    "From Shaded & power normalized rendering:  \n",
    "https://matplotlib.org/3.2.1/gallery/showcase/mandelbrot.html"
   ]
  },
  {
   "cell_type": "code",
   "execution_count": 12,
   "metadata": {},
   "outputs": [],
   "source": [
    "#%load_ext Cython\n",
    "import numpy as np"
   ]
  },
  {
   "cell_type": "code",
   "execution_count": 13,
   "metadata": {},
   "outputs": [
    {
     "ename": "SyntaxError",
     "evalue": "invalid syntax (<ipython-input-13-eb9659af65fd>, line 3)",
     "output_type": "error",
     "traceback": [
      "\u001b[0;36m  File \u001b[0;32m\"<ipython-input-13-eb9659af65fd>\"\u001b[0;36m, line \u001b[0;32m3\u001b[0m\n\u001b[0;31m    cpdef mandelbrot_set(xmin, xmax, ymin, ymax, xn, yn, maxiter, horizon=2.0):\u001b[0m\n\u001b[0m                       ^\u001b[0m\n\u001b[0;31mSyntaxError\u001b[0m\u001b[0;31m:\u001b[0m invalid syntax\n"
     ]
    }
   ],
   "source": [
    "#cimport numpy as np\n",
    "#%%cython -a\n",
    "cpdef mandelbrot_set(xmin, xmax, ymin, ymax, xn, yn, maxiter, horizon=2.0):\n",
    "    \n",
    "    #int[:,::1] Z\n",
    "    #cdef int [:] foo \n",
    "    #NO! cdef int [xmin:xmax:xn] X\n",
    "    #cdef int [:] X\n",
    "    #cdef int [:] Y\n",
    "    X = np.linspace(xmin, xmax, xn).astype(np.float32)\n",
    "    Y = np.linspace(ymin, ymax, yn).astype(np.float32)\n",
    "    C = X + Y[:, None] * 1j\n",
    "    N = np.zeros_like(C, dtype=int)\n",
    "    Z = np.zeros_like(C)\n",
    "    for n in range(maxiter):\n",
    "        I = abs(Z) < horizon\n",
    "        N[I] = n\n",
    "        Z[I] = Z[I]**2 + C[I]\n",
    "    N[N == maxiter-1] = 0\n",
    "    return Z, N"
   ]
  },
  {
   "cell_type": "code",
   "execution_count": null,
   "metadata": {},
   "outputs": [],
   "source": [
    "import numpy as np\n",
    "np.linspace(-3, 3, 6).astype(np.float32)"
   ]
  },
  {
   "cell_type": "markdown",
   "metadata": {},
   "source": [
    "# sobras"
   ]
  },
  {
   "cell_type": "code",
   "execution_count": null,
   "metadata": {},
   "outputs": [],
   "source": []
  },
  {
   "cell_type": "code",
   "execution_count": null,
   "metadata": {},
   "outputs": [],
   "source": [
    "widgets.Textarea(\n",
    "    '\\n'.join([w for w in dir(widgets) if not w.islower()]),\n",
    "    layout=widgets.Layout(height='200px')\n",
    ")"
   ]
  },
  {
   "cell_type": "code",
   "execution_count": null,
   "metadata": {},
   "outputs": [],
   "source": [
    "a=widgets.Text(value='hola', description='chao')"
   ]
  },
  {
   "cell_type": "code",
   "execution_count": null,
   "metadata": {},
   "outputs": [],
   "source": [
    "%%html\n",
    "<style>\n",
    ".mytext > .widget-label {\n",
    "    font-style: italic;\n",
    "    color: blue;\n",
    "    font-size: 30px;\n",
    "}\n",
    ".mytext > input[type=\"text\"] {\n",
    "    font-size: 20px;\n",
    "    color: red;\n",
    "}\n",
    "</style>"
   ]
  },
  {
   "cell_type": "code",
   "execution_count": null,
   "metadata": {},
   "outputs": [],
   "source": [
    "a.add_class(\"mytext\")\n",
    "a"
   ]
  }
 ],
 "metadata": {
  "kernelspec": {
   "display_name": "Python 3",
   "language": "python",
   "name": "python3"
  },
  "language_info": {
   "codemirror_mode": {
    "name": "ipython",
    "version": 3
   },
   "file_extension": ".py",
   "mimetype": "text/x-python",
   "name": "python",
   "nbconvert_exporter": "python",
   "pygments_lexer": "ipython3",
   "version": "3.7.3"
  },
  "toc-autonumbering": true
 },
 "nbformat": 4,
 "nbformat_minor": 4
}
