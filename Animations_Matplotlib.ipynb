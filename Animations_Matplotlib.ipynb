{
 "cells": [
  {
   "cell_type": "markdown",
   "metadata": {},
   "source": [
    "# Global Architecture"
   ]
  },
  {
   "cell_type": "markdown",
   "metadata": {},
   "source": [
    "Without blitting The inner workings of FuncAnimation is more-or-less:"
   ]
  },
  {
   "cell_type": "raw",
   "metadata": {},
   "source": [
    "for d in frames:\n",
    "   artists = func(d, *fargs)\n",
    "   fig.canvas.draw_idle()\n",
    "   fig.canvas.start_event_loop(interval)"
   ]
  },
  {
   "cell_type": "markdown",
   "metadata": {},
   "source": [
    "Blitting"
   ]
  },
  {
   "cell_type": "raw",
   "metadata": {},
   "source": [
    "ax = fig.gca()\n",
    "\n",
    "def update_blit(artists):\n",
    "    fig.canvas.restore_region(bg_cache)\n",
    "    for a in artists:\n",
    "        a.axes.draw_artist(a)\n",
    "\n",
    "    ax.figure.canvas.blit(ax.bbox)\n",
    "\n",
    "artists = init_func()\n",
    "\n",
    "for a in artists:\n",
    "   a.set_animated(True)\n",
    "\n",
    "fig.canvas.draw()\n",
    "bg_cache = fig.canvas.copy_from_bbox(ax.bbox)\n",
    "\n",
    "for f in frames:\n",
    "    artists = func(f, *fargs)\n",
    "    update_blit(artists)\n",
    "    fig.canvas.start_event_loop(interval)\n",
    "    "
   ]
  },
  {
   "cell_type": "markdown",
   "metadata": {},
   "source": [
    "# Basic Animation"
   ]
  },
  {
   "cell_type": "code",
   "execution_count": null,
   "metadata": {},
   "outputs": [],
   "source": [
    "def mandelbrot(x, y, mI):\n",
    "    c=0\n",
    "    z=np.complex(real=x,imag=y)\n",
    "    c=z\n",
    "    for i in range(mI):\n",
    "        if z.real**2+z.imag**2 >= 4:\n",
    "            break\n",
    "        else:\n",
    "            z = z*z + c\n",
    "    return i, z"
   ]
  },
  {
   "cell_type": "code",
   "execution_count": null,
   "metadata": {},
   "outputs": [],
   "source": [
    "from matplotlib import cm, pyplot as plt\n",
    "import numpy as np\n",
    "mI=255"
   ]
  },
  {
   "cell_type": "code",
   "execution_count": null,
   "metadata": {},
   "outputs": [],
   "source": [
    "left, right = -2.0, 0.66\n",
    "bottom, top = -1.4, 1.4\n",
    "Rx, Ry = 250, 50\n",
    "n=10\n",
    "Rx, Ry = n, n\n",
    "\n",
    "itNum = np.zeros((Rx,Ry))\n",
    "Z     = np.zeros((Rx,Ry),dtype=np.complex_)\n",
    "# Make data.\n",
    "x = np.linspace(left, right, Rx) # 3\n",
    "y = np.linspace(bottom, top, Ry)\n",
    "#X,Y = np.meshgrid(x, y, sparse=True)\n",
    "#wtf=np.zeros(shape=(Ry,Rx,2))\n",
    "for i,vx in enumerate(x):\n",
    "    for j,vy in enumerate(y):\n",
    "        itNum[i][j], Z[i][j] = mandelbrot( vx, vy, mI)\n",
    "        #wtf[j][i][0]=vx\n",
    "        #wtf[j][i][1]=vy\n",
    "\n",
    "hshift = 0.5 * np.abs(right - left)/(2*Rx)\n",
    "ex_left, ex_right = left + hshift, right - hshift\n",
    "vshift = 0.5 * np.abs(top - bottom)/(2*Ry)\n",
    "ex_bottom, ex_top = bottom + vshift, top - vshift\n",
    "\n",
    "fig, axs = plt.subplots(nrows=1, ncols=3)\n",
    "fig.set_size_inches(18,6)\n",
    "qm = axs[0].pcolormesh(x, y, itNum.transpose(), cmap=cm.turbo, shading='gouraud', antialiased=True)# auto\n",
    "axes_image = axs[1].imshow( itNum.transpose(), cmap=cm.turbo, interpolation='none', aspect='auto', origin='lower',\n",
    "                       extent=[ex_left, ex_right, ex_top, ex_bottom] )\n",
    "axs[2].matshow( itNum.transpose())\n",
    "\n",
    "fig.tight_layout()\n",
    "plt.show()"
   ]
  },
  {
   "cell_type": "code",
   "execution_count": null,
   "metadata": {},
   "outputs": [],
   "source": [
    "ro=np.empty_like(qm._coordinates)"
   ]
  },
  {
   "cell_type": "code",
   "execution_count": null,
   "metadata": {},
   "outputs": [],
   "source": [
    "wtf.shape==ro.shape, np.all(qm._coordinates[:,:,:]==wtf[:,:,:])"
   ]
  },
  {
   "cell_type": "code",
   "execution_count": null,
   "metadata": {},
   "outputs": [],
   "source": [
    "qm._coordinates[0,0,1]==bottom, qm._coordinates[0,0,0]==left, qm._coordinates[-1,0,1]==top, qm._coordinates[-1,0,0]==left,"
   ]
  },
  {
   "cell_type": "code",
   "execution_count": null,
   "metadata": {},
   "outputs": [],
   "source": [
    "qm._coordinates[0,-1,1]==bottom, qm._coordinates[0,-1,0]==right, qm._coordinates[-1,-1,1]==top, qm._coordinates[-1,-1,0]==right,"
   ]
  },
  {
   "cell_type": "code",
   "execution_count": null,
   "metadata": {},
   "outputs": [],
   "source": [
    "#matplotlib.image\n",
    "axes_image.make_image( None, magnification=2.0, unsampled=False)"
   ]
  },
  {
   "cell_type": "markdown",
   "metadata": {},
   "source": [
    "# QuadMesh"
   ]
  },
  {
   "cell_type": "code",
   "execution_count": null,
   "metadata": {},
   "outputs": [],
   "source": [
    "from matplotlib.collections import QuadMesh\n",
    "wtfqm=QuadMesh(meshWidth=Rx-1, meshHeight=Ry-1, coordinates=wtf)"
   ]
  },
  {
   "cell_type": "markdown",
   "metadata": {},
   "source": [
    "wtfqm.add_callback(func) \n",
    "    Add a callback function that will be called whenever one of the Artist's properties changes.\n",
    "    def func(artist: Artist) -> Any"
   ]
  },
  {
   "cell_type": "code",
   "execution_count": null,
   "metadata": {},
   "outputs": [],
   "source": [
    "coordinates = np.asarray(np.meshgrid(x, y))# can't be meshgrid sparse=True"
   ]
  },
  {
   "cell_type": "code",
   "execution_count": null,
   "metadata": {},
   "outputs": [],
   "source": [
    "jeje=QuadMesh(meshWidth=Rx-1, meshHeight=Ry-1, coordinates=coordinates)"
   ]
  },
  {
   "cell_type": "markdown",
   "metadata": {},
   "source": [
    "# imshow"
   ]
  },
  {
   "cell_type": "markdown",
   "metadata": {},
   "source": [
    "interpolation rcParams[\"image.interpolation\"] (default: 'antialiased')\n",
    "'none', 'antialiased', 'nearest', 'bilinear', 'bicubic', 'spline16', 'spline36', 'hanning', 'hamming', 'hermite', 'kaiser', 'quadric', 'catrom', 'gaussian', 'bessel', 'mitchell', 'sinc', 'lanczos'."
   ]
  },
  {
   "cell_type": "code",
   "execution_count": null,
   "metadata": {},
   "outputs": [],
   "source": [
    "%matplotlib widget\n",
    "import numpy as np\n",
    "from matplotlib import cm, pyplot as plt\n",
    "from matplotlib.animation import FuncAnimation\n",
    "\n",
    "fig, ax = plt.subplots()\n",
    "left, right = -2.0, 0.66\n",
    "bottom, top = -1.4, 1.4\n",
    "\n",
    "def init():\n",
    "    print('hello init')\n",
    "    \n",
    "    axes_image = ax.imshow([[1,2],[3,4]], cmap=cm.turbo, interpolation='none', aspect='auto', origin='lower')\n",
    "\n",
    "    print('bye init')\n",
    "    return ax,\n",
    "\n",
    "def update(frame):\n",
    "    print('hello frame %s'%frame)\n",
    "    n=frame\n",
    "    Rx, Ry = n, n\n",
    "    itNum = np.zeros((Rx,Ry))\n",
    "    Z     = np.zeros((Rx,Ry),dtype=np.complex_)\n",
    "    \n",
    "    global right\n",
    "    right=int(right-frame/85)\n",
    "              \n",
    "    hshift = 0.5 * np.abs(right - left)/(2*Rx)\n",
    "    ex_left, ex_right = left + hshift, right - hshift\n",
    "    vshift = 0.5 * np.abs(top - bottom)/(2*Ry)\n",
    "    ex_bottom, ex_top = bottom + vshift, top - vshift\n",
    "    print(hshift,vshift,left,right,bottom,top,sep=', ',end=';')\n",
    "    \n",
    "    x = np.linspace(left, right, Rx) # 3\n",
    "    y = np.linspace(bottom, top, Ry)\n",
    "    for i,vx in enumerate(x):\n",
    "        for j,vy in enumerate(y):\n",
    "            itNum[i][j], Z[i][j] = mandelbrot( vx, vy, 2*frame)\n",
    "    #ax.cla()\n",
    "    axes_image = ax.imshow( itNum.transpose(), cmap=cm.turbo, interpolation='none', aspect='auto', origin='lower',\n",
    "                       extent=[ex_left, ex_right, ex_top, ex_bottom] )\n",
    "    print('bye frame %s'%frame)\n",
    "    return ax,\n",
    "\n",
    "ani = FuncAnimation(fig, update, interval=2000, frames=range(10,100,10),\n",
    "                    init_func=init, blit=True)\n",
    "plt.show()"
   ]
  },
  {
   "cell_type": "code",
   "execution_count": null,
   "metadata": {},
   "outputs": [],
   "source": [
    "plt.close()"
   ]
  },
  {
   "cell_type": "code",
   "execution_count": null,
   "metadata": {},
   "outputs": [],
   "source": [
    "%matplotlib widget\n",
    "import numpy as np\n",
    "import matplotlib.pyplot as plt\n",
    "from matplotlib.animation import FuncAnimation\n",
    "\n",
    "fig, ax = plt.subplots()\n",
    "xdata, ydata = [], []\n",
    "ln, = plt.plot([], [], 'ro')\n",
    "\n",
    "def init():\n",
    "    ax.set_xlim(0, 2*np.pi)\n",
    "    ax.set_ylim(-1, 1)\n",
    "    return ln,\n",
    "\n",
    "def update(frame):\n",
    "    xdata.append(frame)\n",
    "    ydata.append(np.sin(frame))\n",
    "    ln.set_data(xdata, ydata)\n",
    "    return ln,\n",
    "\n",
    "ani = FuncAnimation(fig, update, frames=np.linspace(0, 2*np.pi, 128),\n",
    "                    init_func=init, blit=True)\n",
    "plt.show()"
   ]
  },
  {
   "cell_type": "code",
   "execution_count": null,
   "metadata": {},
   "outputs": [],
   "source": [
    "plt.close()"
   ]
  },
  {
   "cell_type": "markdown",
   "metadata": {},
   "source": [
    "# Joy division"
   ]
  },
  {
   "cell_type": "markdown",
   "metadata": {},
   "source": [
    "%matplotlib widget\n",
    "import numpy as np\n",
    "import matplotlib.pyplot as plt\n",
    "import matplotlib.animation as animation\n",
    "\n",
    "# Fixing random state for reproducibility\n",
    "np.random.seed(19680801)\n",
    "\n",
    "\n",
    "# Create new Figure with black background\n",
    "fig = plt.figure(figsize=(8, 8), facecolor='black')\n",
    "fig.canvas.footer_visible = False\n",
    "fig.canvas.header_visible = False\n",
    "fig.canvas.toolbar_visible = False\n",
    "\n",
    "# Add a subplot with no frame\n",
    "ax = plt.subplot(111, frameon=False)\n",
    "\n",
    "# Generate random data\n",
    "data = np.random.uniform(0, 1, (64, 75))\n",
    "X = np.linspace(-1, 1, data.shape[-1])\n",
    "G = 1.5 * np.exp(-4 * X ** 2)\n",
    "\n",
    "# Generate line plots\n",
    "lines = []\n",
    "for i in range(len(data)):\n",
    "    # Small reduction of the X extents to get a cheap perspective effect\n",
    "    xscale = 1 - i / 200.\n",
    "    # Same for linewidth (thicker strokes on bottom)\n",
    "    lw = 1.5 - i / 100.0\n",
    "    line, = ax.plot(xscale * X, i + G * data[i], color=\"w\", lw=lw)\n",
    "    lines.append(line)\n",
    "\n",
    "# Set y limit (or first line is cropped because of thickness)\n",
    "ax.set_ylim(-1, 70)\n",
    "\n",
    "# No ticks\n",
    "ax.set_xticks([])\n",
    "ax.set_yticks([])\n",
    "\n",
    "# 2 part titles to get different font weights\n",
    "ax.text(0.5, 1.0, \"MATPLOTLIB \", transform=ax.transAxes,\n",
    "        ha=\"right\", va=\"bottom\", color=\"w\",\n",
    "        family=\"sans-serif\", fontweight=\"light\", fontsize=16)\n",
    "ax.text(0.5, 1.0, \"UNCHAINED\", transform=ax.transAxes,\n",
    "        ha=\"left\", va=\"bottom\", color=\"w\",\n",
    "        family=\"sans-serif\", fontweight=\"bold\", fontsize=16)\n",
    "\n",
    "\n",
    "def update(*args):\n",
    "    # Shift all data to the right\n",
    "    data[:, 1:] = data[:, :-1]\n",
    "\n",
    "    # Fill-in new values\n",
    "    data[:, 0] = np.random.uniform(0, 1, len(data))\n",
    "\n",
    "    # Update data\n",
    "    for i in range(len(data)):\n",
    "        lines[i].set_ydata(i + G * data[i])\n",
    "\n",
    "    # Return modified artists\n",
    "    return lines\n",
    "\n",
    "# Construct the animation, using the update function as the animation director.\n",
    "anim = animation.FuncAnimation(fig, update, interval=10)\n",
    "plt.show()"
   ]
  },
  {
   "cell_type": "code",
   "execution_count": null,
   "metadata": {},
   "outputs": [],
   "source": [
    "plt.close()"
   ]
  },
  {
   "cell_type": "code",
   "execution_count": null,
   "metadata": {},
   "outputs": [],
   "source": [
    "anim."
   ]
  },
  {
   "cell_type": "code",
   "execution_count": null,
   "metadata": {},
   "outputs": [],
   "source": [
    "import numpy as np\n",
    "np.linspace()"
   ]
  },
  {
   "cell_type": "code",
   "execution_count": null,
   "metadata": {},
   "outputs": [],
   "source": []
  }
 ],
 "metadata": {
  "kernelspec": {
   "display_name": "Python 3",
   "language": "python",
   "name": "python3"
  },
  "language_info": {
   "codemirror_mode": {
    "name": "ipython",
    "version": 3
   },
   "file_extension": ".py",
   "mimetype": "text/x-python",
   "name": "python",
   "nbconvert_exporter": "python",
   "pygments_lexer": "ipython3",
   "version": "3.7.3"
  },
  "widgets": {
   "application/vnd.jupyter.widget-state+json": {
    "state": {},
    "version_major": 2,
    "version_minor": 0
   }
  }
 },
 "nbformat": 4,
 "nbformat_minor": 4
}
