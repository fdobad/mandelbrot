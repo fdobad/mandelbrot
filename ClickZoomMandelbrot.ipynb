{
 "cells": [
  {
   "cell_type": "code",
   "execution_count": 1,
   "metadata": {},
   "outputs": [],
   "source": [
    "%load_ext cython"
   ]
  },
  {
   "cell_type": "raw",
   "metadata": {},
   "source": [
    "%%cython\n",
    "cpdef Mandelbrot(int[:,::1] Z, float xl, float xr, float yd, float yu, int Rx, int Ry, int maxIter ) : #except *:\n",
    "    cdef int y, x, n\n",
    "    cdef complex z, c\n",
    "    cdef float dx=Rx/(xr-xl)\n",
    "    cdef float dy=Ry/(yu-yd)\n",
    "    for y in range(Ry):\n",
    "        for x in range(Rx):\n",
    "            c = xl + x / dx + 1j*(yu - y / dy)\n",
    "            z = 0\n",
    "            for n in range(maxIter):\n",
    "                if z.real**2 + z.imag**2 >= 4:\n",
    "                    break\n",
    "                z = z*z + c\n",
    "            Z[y, x] = n"
   ]
  },
  {
   "cell_type": "code",
   "execution_count": 2,
   "metadata": {},
   "outputs": [],
   "source": [
    "%%cython\n",
    "cpdef mandelbrot( int[:,::1] Z, float left, float right, float bottom, float top, \n",
    "                 float d, int numx, int numy, int maxIter):\n",
    "    cdef complex z, c\n",
    "    cdef int x, y, it\n",
    "    for x in range(numx):\n",
    "        for y in range(numy):\n",
    "            c = left + x * d + 1j*( bottom + y * d)\n",
    "            z = c\n",
    "            for it in range(maxIter):\n",
    "                if z.real**2+z.imag**2 >= 4:\n",
    "                    break\n",
    "                else:\n",
    "                    z = z*z + c\n",
    "            Z[x,y] = it"
   ]
  },
  {
   "cell_type": "raw",
   "metadata": {},
   "source": [
    "def joinArgs(*args,**kwargs):\n",
    "    string=', '.join(['{}']*len(args)).format(*args)\n",
    "    string+=', '\n",
    "    for k,v in kwargs.items():\n",
    "        string+= k+'='+v+', '\n",
    "    return string\n",
    "\n",
    "print(joinArgs('hola','chao','hey', que='pasa', hello='world'))"
   ]
  },
  {
   "cell_type": "raw",
   "metadata": {},
   "source": [
    "def f(x,y):\n",
    "    X,Y = np.meshgrid(x, y, sparse=True)\n",
    "    return np.nan_to_num(X**2 + Y**2 + 0.1*X*Y)\n",
    "#    return np.nan_to_num(X*Y**2 + 8*X**2*Y**2 + 8*X**3*Y**2 + 3*X**4*Y**2 + 2*Y**4 + 4*X*Y**4 + 3*X**2*Y**4 + Y**6, posinf=255)"
   ]
  },
  {
   "cell_type": "code",
   "execution_count": 3,
   "metadata": {},
   "outputs": [
    {
     "data": {
      "application/javascript": [
       "IPython.notebook.set_autosave_interval(0)"
      ]
     },
     "metadata": {},
     "output_type": "display_data"
    },
    {
     "name": "stdout",
     "output_type": "stream",
     "text": [
      "Autosave disabled\n"
     ]
    }
   ],
   "source": [
    "%autosave 0\n",
    "%matplotlib qt5\n",
    "#widget tk qt5\n",
    "import matplotlib.pyplot as plt\n",
    "import numpy as np"
   ]
  },
  {
   "cell_type": "raw",
   "metadata": {},
   "source": [
    "def mandelbrot(x, y, mI=63):\n",
    "    c=0\n",
    "    z=np.complex(real=x,imag=y)\n",
    "    c=z\n",
    "    for i in range(mI):\n",
    "        if z.real**2+z.imag**2 >= 4:\n",
    "            break\n",
    "        else:\n",
    "            z = z*z + c\n",
    "    return i\n",
    "\n",
    "def f(x,y):\n",
    "    z=np.zeros((len(x),len(y)))\n",
    "    for i,vx in enumerate(x):\n",
    "        for j,vy in enumerate(y):\n",
    "            z[i,j]=mandelbrot(vx,vy)\n",
    "    return z"
   ]
  },
  {
   "cell_type": "code",
   "execution_count": 4,
   "metadata": {},
   "outputs": [],
   "source": [
    "\n",
    "def init_data():\n",
    "    left, right = -2, 2\n",
    "    bottom, top = -2, 2\n",
    "    dx = np.abs(right-left)\n",
    "    dy = np.abs(top-bottom)    \n",
    "    d = 0.1 # must be even\n",
    "    numx=int(dx/d)\n",
    "    numy=int(dy/d)\n",
    "    #d,dx,num\n",
    "    x = np.linspace(left, right, numx+1)\n",
    "    y = np.linspace(bottom, top, numy+1)\n",
    "    z = np.zeros((numx,numy), dtype=np.int32)\n",
    "    \n",
    "    maxIter=63\n",
    "    mandelbrot(z, left, right, bottom, top, d, numx, numy, maxIter)\n",
    "    #z = f(x,y)\n",
    "    return x, y, z, numx, numy, d, maxIter\n",
    "\n",
    "def doZoom( ex, ey, x, y):\n",
    "    nix = np.argmin(np.abs(ex-x))\n",
    "    niy = np.argmin(np.abs(ey-y))\n",
    "    left, right = x[0], x[-1]\n",
    "    bottom, top = y[0], y[-1]\n",
    "    arm_x=(right-left)/4\n",
    "    arm_y=(top-bottom)/4\n",
    "    nr=np.argmin(np.abs(x-(x[nix]+arm_x)))\n",
    "    nl=np.argmin(np.abs(x-(x[nix]-arm_x)))\n",
    "    nt=np.argmin(np.abs(y-(y[niy]+arm_y)))\n",
    "    nb=np.argmin(np.abs(y-(y[niy]-arm_y)))\n",
    "    return np.linspace(x[nl],x[nr],numx+1), np.linspace(y[nb],y[nt],numy+1)"
   ]
  },
  {
   "cell_type": "code",
   "execution_count": 12,
   "metadata": {},
   "outputs": [],
   "source": [
    "state={ 'pressId':False, 'releaseId':False, 'motionId':False, 'lastx':False, 'lasty':False}\n",
    "\n",
    "def motion_handler(event):\n",
    "    plt.ioff()\n",
    "    global x,y,z\n",
    "    if state['lastx']!=False:\n",
    "        mouse_travel = np.linalg.norm( [ state['lastx'] - event.x, state['lasty'] - event.y ] )\n",
    "        if mouse_travel > 3:\n",
    "            if event.button==1:\n",
    "                print('btn1, x({:.3},{:.3}), y({:.3},{:.3}), z({},{})'.format(x.min(), x.max(), y.min(), y.max(), z.min(), z.max()))\n",
    "                #tb.set_text('Button:1, m.travel:{:.3}'.format(mouse_travel))\n",
    "                x, y = doZoom( event.xdata, event.ydata, x, y)\n",
    "                print('event data({},{})'.format(event.xdata, event.ydata))\n",
    "                z = np.zeros((numx,numy), dtype=np.int32)\n",
    "                mandelbrot(z, x[0], x[-1], y[0], y[-1], d, numx, numy, maxIter)\n",
    "                #mandelbrot(z,x,y,63)\n",
    "                #z = f(x,y)\n",
    "                ax.cla()\n",
    "                #ax.set_xlim(x[0],x[-1])\n",
    "                #ax.set_ylim(y[0],y[-1])\n",
    "                #qm=ax.pcolormesh(y,x,z)\n",
    "                qm=ax.pcolormesh(x,y,z.transpose())\n",
    "                #im = ax.imshow(z.transpose(), origin='upper', extent=[x[0],x[-1],y[0],y[-1]])\n",
    "                #tb.set_text('z min:{:.3}, max:{:.3}'.format(z.min(), z.max()))\n",
    "                tb.set_text('x({:.3},{:.3}), y({:.3},{:.3}), z({},{})'.format(x.min(), x.max(), y.min(), y.max(), z.min(), z.max()))\n",
    "                #print('x({:.3},{:.3}),y({:.3},{:.3}),z({:.3},{:.3})'.format(x.min(), x.max(), y.min(), y.max(), z.min(), z.max()))\n",
    "                #print('y min:{:.3}, max:{:.3}'.format(y.min(), y.max()))\n",
    "                #print('x min:{:.3}, max:{:.3}'.format(x.min(), x.max()))\n",
    "            if event.button==3:\n",
    "                print('button 3')\n",
    "                #tb.set_text('Button:3, m.travel:{:.3}'.format(mouse_travel))\n",
    "    state['lastx']=event.x\n",
    "    state['lasty']=event.y\n",
    "    event.canvas.draw()\n",
    "    plt.ion()\n",
    "        \n",
    "def button_press_handler(event):\n",
    "    print('PRESS', end=';')\n",
    "    state['motionId']  = fig.canvas.mpl_connect('motion_notify_event'  , motion_handler)\n",
    "    state['releaseId'] = fig.canvas.mpl_connect('button_release_event' , button_release_handler)\n",
    "    \n",
    "def button_release_handler(event):\n",
    "    print('RELEASE', end=';')\n",
    "    fig.canvas.mpl_disconnect(state['motionId'])\n",
    "    \n",
    "def axes_enter_handler(event):\n",
    "    print('ENTER', end=';')\n",
    "    #tb.set_text('Press left or right mouse button')\n",
    "    state['pressId'] = fig.canvas.mpl_connect('button_press_event'  , button_press_handler)\n",
    "    event.canvas.draw()\n",
    "\n",
    "def axes_leave_handler(event):\n",
    "    print('LEAVE', end=';')\n",
    "    #tb.set_text('Left...')\n",
    "    fig.canvas.mpl_disconnect(state['pressId'])\n",
    "    fig.canvas.mpl_disconnect(state['releaseId'])\n",
    "    fig.canvas.mpl_disconnect(state['motionId'])\n",
    "    event.canvas.draw()"
   ]
  },
  {
   "cell_type": "code",
   "execution_count": 13,
   "metadata": {},
   "outputs": [
    {
     "name": "stdout",
     "output_type": "stream",
     "text": [
      "ENTER;ENTER;"
     ]
    }
   ],
   "source": [
    "x, y, z, numx, numy, d, maxIter = init_data()\n",
    "\n",
    "fig, ax = plt.subplots()\n",
    "fig.canvas.mpl_connect('axes_enter_event',axes_enter_handler)\n",
    "fig.canvas.mpl_connect('axes_leave_event',axes_leave_handler)\n",
    "tb = fig.text(x=0.6,y=0.9,s='place holder')\n",
    "#ax.set_xlim(x[0],x[-1])\n",
    "#ax.set_ylim(y[0],y[-1])\n",
    "#qm=ax.pcolormesh(y,x,z)\n",
    "qm = ax.pcolormesh(x,y,z.transpose())\n",
    "#im = ax.imshow(z.transpose(), origin='upper', extent=[x[0],x[-1],y[0],y[-1]])\n",
    "plt.show()"
   ]
  },
  {
   "cell_type": "raw",
   "metadata": {},
   "source": [
    "maxIter=63\n",
    "\n",
    "left, right = -2, 2\n",
    "bottom, top = -2, 2\n",
    "dx = np.abs(right-left)\n",
    "dy = np.abs(top-bottom)    \n",
    "d = 0.5 # must be even\n",
    "numx=int(dx/d)\n",
    "numy=int(dy/d)\n",
    "\n",
    "x = np.linspace(left, right, numx+1)\n",
    "y = np.linspace(bottom, top, numy+1)\n",
    "z = np.zeros((numx,numy), dtype=np.int32)"
   ]
  },
  {
   "cell_type": "raw",
   "metadata": {},
   "source": [
    "z, left, right, bottom, top, d, numx, numy, maxIter"
   ]
  },
  {
   "cell_type": "raw",
   "metadata": {},
   "source": [
    "mandelbrot(z, left, right, bottom, top, d, numx, numy, maxIter)"
   ]
  },
  {
   "cell_type": "code",
   "execution_count": 9,
   "metadata": {},
   "outputs": [
    {
     "data": {
      "text/plain": [
       "(array([[62, 62, 62, 62, 62, 62, 62, 62,  7,  6,  4,  3,  2,  1,  1,  1,\n",
       "          1,  1,  1,  1,  1,  0,  0,  0,  0,  0,  0,  0,  0,  0,  0,  0,\n",
       "          0,  0,  0,  0,  0,  0,  0,  0],\n",
       "        [ 1,  1,  1,  1,  1,  1,  1,  1,  1,  1,  1,  1,  1,  1,  1,  1,\n",
       "          1,  1,  0,  0,  0,  0,  0,  0,  0,  0,  0,  0,  0,  0,  0,  0,\n",
       "          0,  0,  0,  0,  0,  0,  0,  0],\n",
       "        [ 0,  0,  0,  0,  0,  0,  0,  0,  0,  0,  0,  0,  0,  0,  0,  0,\n",
       "          0,  0,  0,  0,  0,  0,  0,  0,  0,  0,  0,  0,  0,  0,  0,  0,\n",
       "          0,  0,  0,  0,  0,  0,  0,  0],\n",
       "        [ 0,  0,  0,  0,  0,  0,  0,  0,  0,  0,  0,  0,  0,  0,  0,  0,\n",
       "          0,  0,  0,  0,  0,  0,  0,  0,  0,  0,  0,  0,  0,  0,  0,  0,\n",
       "          0,  0,  0,  0,  0,  0,  0,  0]], dtype=int32),\n",
       " array([0.05     , 0.0515625, 0.053125 , 0.0546875, 0.05625  , 0.0578125,\n",
       "        0.059375 , 0.0609375, 0.0625   , 0.0640625, 0.065625 , 0.0671875,\n",
       "        0.06875  , 0.0703125, 0.071875 , 0.0734375, 0.075    , 0.0765625,\n",
       "        0.078125 , 0.0796875, 0.08125  , 0.0828125, 0.084375 , 0.0859375,\n",
       "        0.0875   , 0.0890625, 0.090625 , 0.0921875, 0.09375  , 0.0953125,\n",
       "        0.096875 , 0.0984375, 0.1      , 0.1015625, 0.103125 , 0.1046875,\n",
       "        0.10625  , 0.1078125, 0.109375 , 0.1109375, 0.1125   ]),\n",
       " array([-4.00000000e-02, -3.50000000e-02, -3.00000000e-02, -2.50000000e-02,\n",
       "        -2.00000000e-02, -1.50000000e-02, -1.00000000e-02, -5.00000000e-03,\n",
       "         1.73472348e-16,  5.00000000e-03,  1.00000000e-02,  1.50000000e-02,\n",
       "         2.00000000e-02,  2.50000000e-02,  3.00000000e-02,  3.50000000e-02,\n",
       "         4.00000000e-02,  4.50000000e-02,  5.00000000e-02,  5.50000000e-02,\n",
       "         6.00000000e-02,  6.50000000e-02,  7.00000000e-02,  7.50000000e-02,\n",
       "         8.00000000e-02,  8.50000000e-02,  9.00000000e-02,  9.50000000e-02,\n",
       "         1.00000000e-01,  1.05000000e-01,  1.10000000e-01,  1.15000000e-01,\n",
       "         1.20000000e-01,  1.25000000e-01,  1.30000000e-01,  1.35000000e-01,\n",
       "         1.40000000e-01,  1.45000000e-01,  1.50000000e-01,  1.55000000e-01,\n",
       "         1.60000000e-01]))"
      ]
     },
     "execution_count": 9,
     "metadata": {},
     "output_type": "execute_result"
    }
   ],
   "source": [
    "z[::10],x,y"
   ]
  },
  {
   "cell_type": "raw",
   "metadata": {},
   "source": [
    "plt.close()\n",
    "\n",
    "qm._coordinates[:,0]\n",
    "\n",
    "x.shape,y.shape\n",
    "\n",
    "x[0],y[0],z[0,0]"
   ]
  }
 ],
 "metadata": {
  "kernelspec": {
   "display_name": "Python 3",
   "language": "python",
   "name": "python3"
  },
  "language_info": {
   "codemirror_mode": {
    "name": "ipython",
    "version": 3
   },
   "file_extension": ".py",
   "mimetype": "text/x-python",
   "name": "python",
   "nbconvert_exporter": "python",
   "pygments_lexer": "ipython3",
   "version": "3.8.3"
  }
 },
 "nbformat": 4,
 "nbformat_minor": 4
}
